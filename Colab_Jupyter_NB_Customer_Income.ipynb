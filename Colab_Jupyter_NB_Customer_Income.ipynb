{
  "nbformat": 4,
  "nbformat_minor": 0,
  "metadata": {
    "kernelspec": {
      "display_name": "Python 3",
      "language": "python",
      "name": "python3"
    },
    "language_info": {
      "codemirror_mode": {
        "name": "ipython",
        "version": 3
      },
      "file_extension": ".py",
      "mimetype": "text/x-python",
      "name": "python",
      "nbconvert_exporter": "python",
      "pygments_lexer": "ipython3",
      "version": "3.6.4"
    },
    "colab": {
      "name": "G_Colab_NB_Customer_Income.ipynb",
      "provenance": [],
      "collapsed_sections": [
        "dYl5MKij5RvK",
        "w3uwWpVOMBB7",
        "G0cZld7cMVAZ",
        "GnCQgM3neFxa",
        "kTv9rt5neFxa",
        "YPvveiBreFxb",
        "C87s31DveFxb",
        "LErnDYlpeFxc"
      ],
      "include_colab_link": true
    }
  },
  "cells": [
    {
      "cell_type": "markdown",
      "metadata": {
        "id": "view-in-github",
        "colab_type": "text"
      },
      "source": [
        "<a href=\"https://colab.research.google.com/github/NonMundaneDev/layer-ml-pipelines-spark/blob/main/Colab_Jupyter_NB_Customer_Income.ipynb\" target=\"_parent\"><img src=\"https://colab.research.google.com/assets/colab-badge.svg\" alt=\"Open In Colab\"/></a>"
      ]
    },
    {
      "cell_type": "markdown",
      "metadata": {
        "id": "NDS2jDkxzVix"
      },
      "source": [
        "# If you are using Colab..."
      ]
    },
    {
      "cell_type": "code",
      "metadata": {
        "colab": {
          "base_uri": "https://localhost:8080/"
        },
        "id": "48krU7keah1n",
        "outputId": "96cf8014-9069-47d8-f99d-8e9e19ff391a"
      },
      "source": [
        "!python --version"
      ],
      "execution_count": null,
      "outputs": [
        {
          "output_type": "stream",
          "name": "stdout",
          "text": [
            "Python 3.7.11\n"
          ]
        }
      ]
    },
    {
      "cell_type": "code",
      "metadata": {
        "colab": {
          "base_uri": "https://localhost:8080/"
        },
        "id": "_IBFhVbpedYB",
        "outputId": "b3517768-28ff-41ea-f3fe-1fef10b365fa"
      },
      "source": [
        "# innstall java\n",
        "!apt-get install openjdk-8-jdk-headless -qq > /dev/null\n",
        "\n",
        "# install spark (change the version number if needed)\n",
        "!wget -q https://archive.apache.org/dist/spark/spark-3.0.0/spark-3.0.0-bin-hadoop3.2.tgz\n",
        "\n",
        "# unzip the spark file to the current folder\n",
        "!tar xf spark-3.0.0-bin-hadoop3.2.tgz\n",
        "\n",
        "# set your spark folder to your system path environment. \n",
        "import os\n",
        "os.environ[\"JAVA_HOME\"] = \"/usr/lib/jvm/java-8-openjdk-amd64\"\n",
        "os.environ[\"SPARK_HOME\"] = \"/content/spark-3.0.0-bin-hadoop3.2\"\n",
        "\n",
        "\n",
        "# install findspark using pip\n",
        "!pip install -q findspark\n",
        "\n",
        "!pip install pyspark==3.0.2"
      ],
      "execution_count": null,
      "outputs": [
        {
          "output_type": "stream",
          "name": "stdout",
          "text": [
            "Collecting pyspark==3.0.2\n",
            "  Downloading pyspark-3.0.2.tar.gz (204.8 MB)\n",
            "\u001b[K     |████████████████████████████████| 204.8 MB 56 kB/s \n",
            "\u001b[?25hCollecting py4j==0.10.9\n",
            "  Downloading py4j-0.10.9-py2.py3-none-any.whl (198 kB)\n",
            "\u001b[K     |████████████████████████████████| 198 kB 49.4 MB/s \n",
            "\u001b[?25hBuilding wheels for collected packages: pyspark\n",
            "  Building wheel for pyspark (setup.py) ... \u001b[?25l\u001b[?25hdone\n",
            "  Created wheel for pyspark: filename=pyspark-3.0.2-py2.py3-none-any.whl size=205186690 sha256=9c09aeae06e951f7a44bee90bb6c5a78a80f7146c2de61f9538f30c80172faeb\n",
            "  Stored in directory: /root/.cache/pip/wheels/9a/39/f6/970565f38054a830e9a8593f388b36e14d75dba6c6fdafc1ec\n",
            "Successfully built pyspark\n",
            "Installing collected packages: py4j, pyspark\n",
            "Successfully installed py4j-0.10.9 pyspark-3.0.2\n"
          ]
        }
      ]
    },
    {
      "cell_type": "code",
      "metadata": {
        "colab": {
          "base_uri": "https://localhost:8080/"
        },
        "id": "e4xPbgG7eyJ6",
        "outputId": "25853088-c28a-4c4b-b809-cafc0aed2da8"
      },
      "source": [
        "!wget https://bin.equinox.io/c/4VmDzA7iaHb/ngrok-stable-linux-amd64.zip\n",
        "!unzip ngrok-stable-linux-amd64.zip\n",
        "get_ipython().system_raw('./ngrok http 4050 &')\n",
        "!sleep 10\n",
        "!curl -s http://localhost:4040/api/tunnels | python3 -c \\\n",
        "    \"import sys, json; print(json.load(sys.stdin)['tunnels'][0]['public_url'])\""
      ],
      "execution_count": null,
      "outputs": [
        {
          "output_type": "stream",
          "name": "stdout",
          "text": [
            "--2021-09-05 03:50:20--  https://bin.equinox.io/c/4VmDzA7iaHb/ngrok-stable-linux-amd64.zip\n",
            "Resolving bin.equinox.io (bin.equinox.io)... 54.237.133.81, 18.205.222.128, 52.202.168.65, ...\n",
            "Connecting to bin.equinox.io (bin.equinox.io)|54.237.133.81|:443... connected.\n",
            "HTTP request sent, awaiting response... 200 OK\n",
            "Length: 13832437 (13M) [application/octet-stream]\n",
            "Saving to: ‘ngrok-stable-linux-amd64.zip’\n",
            "\n",
            "ngrok-stable-linux- 100%[===================>]  13.19M  3.05MB/s    in 5.4s    \n",
            "\n",
            "2021-09-05 03:50:26 (2.43 MB/s) - ‘ngrok-stable-linux-amd64.zip’ saved [13832437/13832437]\n",
            "\n",
            "Archive:  ngrok-stable-linux-amd64.zip\n",
            "  inflating: ngrok                   \n",
            "https://f291-35-203-142-45.ngrok.io\n"
          ]
        }
      ]
    },
    {
      "cell_type": "markdown",
      "metadata": {
        "id": "Dcg1EyPE7ZCU"
      },
      "source": [
        "# If you are using Local Jupyter Notebook"
      ]
    },
    {
      "cell_type": "markdown",
      "metadata": {
        "id": "w4Onuzop7cmS"
      },
      "source": [
        "You can learn how to install PySpark on Jupyter Notebook in [this video](https://youtu.be/K_aLjzVySvk).\n",
        "\n",
        "Learn how to install [MLeap](https://github.com/combust/mleap) on Jupyter Notebook in [this guide](https://combust.github.io/mleap-docs/notebooks/jupyter.html)."
      ]
    },
    {
      "cell_type": "code",
      "metadata": {
        "id": "zA65RnZqgQN2"
      },
      "source": [
        "from pyspark.sql import SparkSession\n",
        "from pyspark import SparkContext, SparkConf\n",
        "\n",
        "# create the session\n",
        "conf = SparkConf().set(\"spark.ui.port\", \"4050\")\n",
        "\n",
        "# create the context\n",
        "sc = SparkContext(conf=conf)\n",
        "#spark = SparkSession.builder.getOrCreate()"
      ],
      "execution_count": null,
      "outputs": []
    },
    {
      "cell_type": "code",
      "metadata": {
        "colab": {
          "base_uri": "https://localhost:8080/",
          "height": 198
        },
        "id": "xuHqHXhZgYgt",
        "outputId": "8be133d7-8e09-4972-bb92-b6e03f400767"
      },
      "source": [
        "sc"
      ],
      "execution_count": null,
      "outputs": [
        {
          "output_type": "execute_result",
          "data": {
            "text/html": [
              "\n",
              "        <div>\n",
              "            <p><b>SparkContext</b></p>\n",
              "\n",
              "            <p><a href=\"http://f581ae58b8ab:4050\">Spark UI</a></p>\n",
              "\n",
              "            <dl>\n",
              "              <dt>Version</dt>\n",
              "                <dd><code>v3.0.2</code></dd>\n",
              "              <dt>Master</dt>\n",
              "                <dd><code>local[*]</code></dd>\n",
              "              <dt>AppName</dt>\n",
              "                <dd><code>pyspark-shell</code></dd>\n",
              "            </dl>\n",
              "        </div>\n",
              "        "
            ],
            "text/plain": [
              "<SparkContext master=local[*] appName=pyspark-shell>"
            ]
          },
          "metadata": {},
          "execution_count": 3
        }
      ]
    },
    {
      "cell_type": "markdown",
      "metadata": {
        "id": "yAM0p2O5y09Q"
      },
      "source": [
        "# Framing The Problem\n",
        "\n"
      ]
    },
    {
      "cell_type": "markdown",
      "metadata": {
        "id": "t6DXMiUb0fov"
      },
      "source": [
        "## Description\n",
        "\n",
        "An organization seeks a new marketing opportunity with a newly released product. They realize they could target a segment of their users above a certain income level with marketing ads, which will increase the likelihood that the customer will purchase the product.\n",
        "\n",
        "The team suggests that you build an application to integrate with the existing marketing tool to send relevant emails to customers that the marketing team has designed. At this stage, the application should be correct often than not.\n",
        "\n",
        "Dataset on prior customers and their income levels is available to be explored and used to build the ML application. \n",
        "\n",
        "From the description, the problem does seem like a supervised learning and classification problem. It will be further confirmed when you explore the dataset."
      ]
    },
    {
      "cell_type": "markdown",
      "metadata": {
        "id": "JgNwWVA90g10"
      },
      "source": [
        "# Dataset Exploration"
      ]
    },
    {
      "cell_type": "markdown",
      "metadata": {
        "id": "H0xs9r5beFw4"
      },
      "source": [
        "<b>Dataset location: </b>https://archive.ics.uci.edu/ml/machine-learning-databases/adult/adult.data"
      ]
    },
    {
      "cell_type": "markdown",
      "metadata": {
        "id": "2c38K2m7wRS8"
      },
      "source": [
        "\n",
        "##Features\n",
        "\n",
        "`age`: Age of the adult.\n",
        "\n",
        "`workclass`: Working class status of adult (Private, Self-emp-not-inc, Self-emp-inc, Federal-gov, Local-gov, State-gov, Without-pay, Never-worked).\n",
        "\n",
        "`fnlwgt` (or Final Weight): Census-specific column that represents the weight given to the record based on the estimate of the number of people that particular adult observation represents.\n",
        "\n",
        "`education`: Level of education of adult (Bachelors, Some-college, 11th, HS-grad, Prof-school, Assoc-acdm, Assoc-voc, 9th, 7th-8th, 12th, Masters, 1st-4th, 10th, Doctorate, 5th-6th, Preschool).\n",
        "\n",
        "`education-num` (or Education number of years): Number of educational years completed by the adult.\n",
        "\n",
        "`marital-status`: Marital status of the adult (Married-civ-spouse, Divorced, Never-married, Separated, Widowed, Married-spouse-absent, Married-AF-spouse).\n",
        "\n",
        "`occupation`: Adult's work occupation (Tech-support, Craft-repair, Other-service, Sales, Exec-managerial, Prof-specialty, Handlers-cleaners, Machine-op-inspct, Adm-clerical, Farming-fishing, Transport-moving, Priv-house-serv, Protective-serv, Armed-Forces).\n",
        "\n",
        "`relationship`: Adult's relationship status (Wife, Own-child, Husband, Not-in-family, Other-relative, Unmarried).\n",
        "\n",
        "`race`: Adult's race (White, Asian-Pac-Islander, Amer-Indian-Eskimo, Other, Black).\n",
        "\n",
        "`sex`: Adult's gender (Female, Male).\n",
        "\n",
        "`capital-gain`: Monetary capital gains for the adult.\n",
        "\n",
        "`capital-loss`: Monetary capital losses for the adult.\n",
        "\n",
        "`hours-per-week`: Average hours per week worked.\n",
        "\n",
        "`native-country`: Native country (United-States, Cambodia, England, Puerto-Rico, Canada, Germany, Outlying-US(Guam-USVI-etc), India, Japan, Greece, South, China, Cuba, Iran, Honduras, Philippines, Italy, Poland, Jamaica, Vietnam, Mexico, Portugal, Ireland, France, Dominican-Republic, Laos, Ecuador, Taiwan, Haiti, Columbia, Hungary, Guatemala, Nicaragua, Scotland, Thailand, Yugoslavia, El-Salvador, Trinadad&Tobago, Peru, Hong, Holand-Netherlands).\n",
        "\n",
        "##Target Variable\n",
        "`income`: Income class (<=50K, >50K)."
      ]
    },
    {
      "cell_type": "markdown",
      "metadata": {
        "id": "gbzGq5zdpYjg"
      },
      "source": [
        "This is already looking like a binary classification problem and a common theme with binary classification problem is class imbalance, which you will look out for as you validate and explore the data."
      ]
    },
    {
      "cell_type": "markdown",
      "metadata": {
        "id": "F_B1iMxe5Lld"
      },
      "source": [
        "# Developing The ML Pipeline"
      ]
    },
    {
      "cell_type": "markdown",
      "metadata": {
        "id": "dYl5MKij5RvK"
      },
      "source": [
        "## Steps In Developing The ML Pipeline (Training Pipeline)"
      ]
    },
    {
      "cell_type": "markdown",
      "metadata": {
        "id": "tpE02fFz5Ysq"
      },
      "source": [
        "1. Data ingestion.\n",
        "\n",
        "1. Data validation.\n",
        "\n",
        "2. Data preparation.\n",
        "\n",
        "3. Data segregation (splitting).\n",
        "\n",
        "4. Model development\n",
        "\n",
        " - Model training.\n",
        "\n",
        " - Model selection.\n",
        "\n",
        " - Model evaluation.\n",
        "\n",
        " - Model validation."
      ]
    },
    {
      "cell_type": "markdown",
      "metadata": {
        "id": "OxF5LJdT50D4"
      },
      "source": [
        "### Import necessary libraries."
      ]
    },
    {
      "cell_type": "code",
      "metadata": {
        "id": "qhID4pOk1GWh"
      },
      "source": [
        "import pyspark.sql.functions as func\n",
        "from pyspark.sql.functions import *\n",
        "\n",
        "from pyspark.sql.types import (\n",
        "    FloatType, \n",
        "    IntegerType\n",
        ")\n",
        "\n",
        "\n",
        "\n",
        "from pyspark.ml.feature import (\n",
        "    VectorAssembler,\n",
        "    MinMaxScaler,\n",
        "    OneHotEncoder,\n",
        "    StringIndexer\n",
        ")\n",
        "\n",
        "from pyspark.ml.classification import (\n",
        "    LogisticRegression,\n",
        "    DecisionTreeClassifier,\n",
        "    RandomForestClassifier,\n",
        "    GBTClassifier\n",
        ")\n",
        "\n",
        "from pyspark.ml import Pipeline\n",
        "\n",
        "from pyspark.ml.tuning import (\n",
        "    ParamGridBuilder,\n",
        "    CrossValidator,\n",
        ")\n",
        "\n",
        "from pyspark.ml.evaluation import MulticlassClassificationEvaluator"
      ],
      "execution_count": null,
      "outputs": []
    },
    {
      "cell_type": "code",
      "metadata": {
        "id": "wvHO0Zgoe_Jf"
      },
      "source": [
        "# Download the dataset\n",
        "!wget -q https://archive.ics.uci.edu/ml/machine-learning-databases/adult/adult.data"
      ],
      "execution_count": null,
      "outputs": []
    },
    {
      "cell_type": "markdown",
      "metadata": {
        "id": "2RZITI8X8slp"
      },
      "source": [
        "### Initialize the Spark Session to start a Spark application"
      ]
    },
    {
      "cell_type": "code",
      "metadata": {
        "id": "gyGBhGgsLnl_"
      },
      "source": [
        "spark = SparkSession \\\n",
        "    .builder \\\n",
        "    .appName(\"Classifying if a customer's income is >$50k or lesser.\") \\\n",
        "    .getOrCreate()\n"
      ],
      "execution_count": null,
      "outputs": []
    },
    {
      "cell_type": "markdown",
      "metadata": {
        "id": "w3uwWpVOMBB7"
      },
      "source": [
        "## Data Ingestion"
      ]
    },
    {
      "cell_type": "markdown",
      "metadata": {
        "id": "hfwlNF4g8zIt"
      },
      "source": [
        "1. Read the dataset in a csv format.\n",
        "2. Do not include an header.\n",
        "3. Remove the leading whitespace for each value\n",
        "4. Read the directory of the text file."
      ]
    },
    {
      "cell_type": "code",
      "metadata": {
        "collapsed": true,
        "id": "LEdUbhceeFw_"
      },
      "source": [
        "rawData = spark.read.format('csv') .option('header', 'false') \\\n",
        "                .option('ignoreLeadingWhiteSpace', 'true').load('adult.data')"
      ],
      "execution_count": null,
      "outputs": []
    },
    {
      "cell_type": "code",
      "metadata": {
        "collapsed": true,
        "id": "DTaHrwRneFxB"
      },
      "source": [
        "# You'll specify the features and label you  want to use for the dataset\n",
        "dataset = rawData.toDF('Age',\n",
        "               'WorkClass',\n",
        "               'FnlWgt',\n",
        "               'Education',\n",
        "               'EducationNum',\n",
        "               'MaritalStatus',\n",
        "               'Occupation',\n",
        "               'Relationship',\n",
        "               'Race',\n",
        "               'Gender',\n",
        "               'CapitalGain',\n",
        "               'CapitalLoss',\n",
        "               'HoursPerWeek',\n",
        "               'NativeCountry',\n",
        "               'Income'\n",
        "                )"
      ],
      "execution_count": null,
      "outputs": []
    },
    {
      "cell_type": "markdown",
      "metadata": {
        "id": "G0cZld7cMVAZ"
      },
      "source": [
        "## Data Validation"
      ]
    },
    {
      "cell_type": "markdown",
      "metadata": {
        "id": "oSVw8fMjqJbq"
      },
      "source": [
        "Count the number of observations in the dataset..."
      ]
    },
    {
      "cell_type": "code",
      "metadata": {
        "colab": {
          "base_uri": "https://localhost:8080/"
        },
        "id": "AmFuqw7HqIUU",
        "outputId": "982c2f96-a856-4ff2-82a1-0c620e25266b"
      },
      "source": [
        "dataset.count()"
      ],
      "execution_count": null,
      "outputs": [
        {
          "output_type": "execute_result",
          "data": {
            "text/plain": [
              "32561"
            ]
          },
          "metadata": {},
          "execution_count": 8
        }
      ]
    },
    {
      "cell_type": "markdown",
      "metadata": {
        "id": "RiMeEMh6jD2l"
      },
      "source": [
        "Validate that your dataset is what you expect. You should not do this if your dataset is large, as it will become inefficient."
      ]
    },
    {
      "cell_type": "code",
      "metadata": {
        "colab": {
          "base_uri": "https://localhost:8080/",
          "height": 312
        },
        "id": "AuZoxyKPeFxD",
        "outputId": "a1e2fe3b-4d09-472d-f569-42f5e83df61d"
      },
      "source": [
        "dataset.toPandas().head()"
      ],
      "execution_count": null,
      "outputs": [
        {
          "output_type": "execute_result",
          "data": {
            "text/html": [
              "<div>\n",
              "<style scoped>\n",
              "    .dataframe tbody tr th:only-of-type {\n",
              "        vertical-align: middle;\n",
              "    }\n",
              "\n",
              "    .dataframe tbody tr th {\n",
              "        vertical-align: top;\n",
              "    }\n",
              "\n",
              "    .dataframe thead th {\n",
              "        text-align: right;\n",
              "    }\n",
              "</style>\n",
              "<table border=\"1\" class=\"dataframe\">\n",
              "  <thead>\n",
              "    <tr style=\"text-align: right;\">\n",
              "      <th></th>\n",
              "      <th>Age</th>\n",
              "      <th>WorkClass</th>\n",
              "      <th>FnlWgt</th>\n",
              "      <th>Education</th>\n",
              "      <th>EducationNum</th>\n",
              "      <th>MaritalStatus</th>\n",
              "      <th>Occupation</th>\n",
              "      <th>Relationship</th>\n",
              "      <th>Race</th>\n",
              "      <th>Gender</th>\n",
              "      <th>CapitalGain</th>\n",
              "      <th>CapitalLoss</th>\n",
              "      <th>HoursPerWeek</th>\n",
              "      <th>NativeCountry</th>\n",
              "      <th>Income</th>\n",
              "    </tr>\n",
              "  </thead>\n",
              "  <tbody>\n",
              "    <tr>\n",
              "      <th>0</th>\n",
              "      <td>39</td>\n",
              "      <td>State-gov</td>\n",
              "      <td>77516</td>\n",
              "      <td>Bachelors</td>\n",
              "      <td>13</td>\n",
              "      <td>Never-married</td>\n",
              "      <td>Adm-clerical</td>\n",
              "      <td>Not-in-family</td>\n",
              "      <td>White</td>\n",
              "      <td>Male</td>\n",
              "      <td>2174</td>\n",
              "      <td>0</td>\n",
              "      <td>40</td>\n",
              "      <td>United-States</td>\n",
              "      <td>&lt;=50K</td>\n",
              "    </tr>\n",
              "    <tr>\n",
              "      <th>1</th>\n",
              "      <td>50</td>\n",
              "      <td>Self-emp-not-inc</td>\n",
              "      <td>83311</td>\n",
              "      <td>Bachelors</td>\n",
              "      <td>13</td>\n",
              "      <td>Married-civ-spouse</td>\n",
              "      <td>Exec-managerial</td>\n",
              "      <td>Husband</td>\n",
              "      <td>White</td>\n",
              "      <td>Male</td>\n",
              "      <td>0</td>\n",
              "      <td>0</td>\n",
              "      <td>13</td>\n",
              "      <td>United-States</td>\n",
              "      <td>&lt;=50K</td>\n",
              "    </tr>\n",
              "    <tr>\n",
              "      <th>2</th>\n",
              "      <td>38</td>\n",
              "      <td>Private</td>\n",
              "      <td>215646</td>\n",
              "      <td>HS-grad</td>\n",
              "      <td>9</td>\n",
              "      <td>Divorced</td>\n",
              "      <td>Handlers-cleaners</td>\n",
              "      <td>Not-in-family</td>\n",
              "      <td>White</td>\n",
              "      <td>Male</td>\n",
              "      <td>0</td>\n",
              "      <td>0</td>\n",
              "      <td>40</td>\n",
              "      <td>United-States</td>\n",
              "      <td>&lt;=50K</td>\n",
              "    </tr>\n",
              "    <tr>\n",
              "      <th>3</th>\n",
              "      <td>53</td>\n",
              "      <td>Private</td>\n",
              "      <td>234721</td>\n",
              "      <td>11th</td>\n",
              "      <td>7</td>\n",
              "      <td>Married-civ-spouse</td>\n",
              "      <td>Handlers-cleaners</td>\n",
              "      <td>Husband</td>\n",
              "      <td>Black</td>\n",
              "      <td>Male</td>\n",
              "      <td>0</td>\n",
              "      <td>0</td>\n",
              "      <td>40</td>\n",
              "      <td>United-States</td>\n",
              "      <td>&lt;=50K</td>\n",
              "    </tr>\n",
              "    <tr>\n",
              "      <th>4</th>\n",
              "      <td>28</td>\n",
              "      <td>Private</td>\n",
              "      <td>338409</td>\n",
              "      <td>Bachelors</td>\n",
              "      <td>13</td>\n",
              "      <td>Married-civ-spouse</td>\n",
              "      <td>Prof-specialty</td>\n",
              "      <td>Wife</td>\n",
              "      <td>Black</td>\n",
              "      <td>Female</td>\n",
              "      <td>0</td>\n",
              "      <td>0</td>\n",
              "      <td>40</td>\n",
              "      <td>Cuba</td>\n",
              "      <td>&lt;=50K</td>\n",
              "    </tr>\n",
              "  </tbody>\n",
              "</table>\n",
              "</div>"
            ],
            "text/plain": [
              "  Age         WorkClass  FnlWgt  ... HoursPerWeek  NativeCountry Income\n",
              "0  39         State-gov   77516  ...           40  United-States  <=50K\n",
              "1  50  Self-emp-not-inc   83311  ...           13  United-States  <=50K\n",
              "2  38           Private  215646  ...           40  United-States  <=50K\n",
              "3  53           Private  234721  ...           40  United-States  <=50K\n",
              "4  28           Private  338409  ...           40           Cuba  <=50K\n",
              "\n",
              "[5 rows x 15 columns]"
            ]
          },
          "metadata": {},
          "execution_count": 9
        }
      ]
    },
    {
      "cell_type": "markdown",
      "metadata": {
        "id": "zQ7skSPLmM2a"
      },
      "source": [
        "Print the schema of the dataset to understand the structure..."
      ]
    },
    {
      "cell_type": "code",
      "metadata": {
        "colab": {
          "base_uri": "https://localhost:8080/"
        },
        "id": "lgLTHihLmI_b",
        "outputId": "bb894c30-790a-424f-b8a0-6f3e9bff04db"
      },
      "source": [
        "dataset.printSchema()"
      ],
      "execution_count": null,
      "outputs": [
        {
          "output_type": "stream",
          "name": "stdout",
          "text": [
            "root\n",
            " |-- Age: string (nullable = true)\n",
            " |-- WorkClass: string (nullable = true)\n",
            " |-- FnlWgt: string (nullable = true)\n",
            " |-- Education: string (nullable = true)\n",
            " |-- EducationNum: string (nullable = true)\n",
            " |-- MaritalStatus: string (nullable = true)\n",
            " |-- Occupation: string (nullable = true)\n",
            " |-- Relationship: string (nullable = true)\n",
            " |-- Race: string (nullable = true)\n",
            " |-- Gender: string (nullable = true)\n",
            " |-- CapitalGain: string (nullable = true)\n",
            " |-- CapitalLoss: string (nullable = true)\n",
            " |-- HoursPerWeek: string (nullable = true)\n",
            " |-- NativeCountry: string (nullable = true)\n",
            " |-- Income: string (nullable = true)\n",
            "\n"
          ]
        }
      ]
    },
    {
      "cell_type": "markdown",
      "metadata": {
        "id": "2M34GuaKeFxG"
      },
      "source": [
        "The `FnlWgt` (final weight) feature does not logically have any effect on the problem we are trying to solve so we can drop the column as it does not appear meaningful."
      ]
    },
    {
      "cell_type": "code",
      "metadata": {
        "collapsed": true,
        "id": "Q97XkjozeFxG"
      },
      "source": [
        "dataset = dataset.drop('FnlWgt')"
      ],
      "execution_count": null,
      "outputs": []
    },
    {
      "cell_type": "markdown",
      "metadata": {
        "id": "eLF1v45reFxH"
      },
      "source": [
        "Examine the dataset and confirm the `FnlWgt` column has been dropped..."
      ]
    },
    {
      "cell_type": "code",
      "metadata": {
        "colab": {
          "base_uri": "https://localhost:8080/",
          "height": 615
        },
        "id": "1G7w0mv5eFxI",
        "outputId": "5119eb9c-378d-4698-8b6d-84c7eae48d0a"
      },
      "source": [
        "dataset.toPandas()"
      ],
      "execution_count": null,
      "outputs": [
        {
          "output_type": "execute_result",
          "data": {
            "text/html": [
              "<div>\n",
              "<style scoped>\n",
              "    .dataframe tbody tr th:only-of-type {\n",
              "        vertical-align: middle;\n",
              "    }\n",
              "\n",
              "    .dataframe tbody tr th {\n",
              "        vertical-align: top;\n",
              "    }\n",
              "\n",
              "    .dataframe thead th {\n",
              "        text-align: right;\n",
              "    }\n",
              "</style>\n",
              "<table border=\"1\" class=\"dataframe\">\n",
              "  <thead>\n",
              "    <tr style=\"text-align: right;\">\n",
              "      <th></th>\n",
              "      <th>Age</th>\n",
              "      <th>WorkClass</th>\n",
              "      <th>Education</th>\n",
              "      <th>EducationNum</th>\n",
              "      <th>MaritalStatus</th>\n",
              "      <th>Occupation</th>\n",
              "      <th>Relationship</th>\n",
              "      <th>Race</th>\n",
              "      <th>Gender</th>\n",
              "      <th>CapitalGain</th>\n",
              "      <th>CapitalLoss</th>\n",
              "      <th>HoursPerWeek</th>\n",
              "      <th>NativeCountry</th>\n",
              "      <th>Income</th>\n",
              "    </tr>\n",
              "  </thead>\n",
              "  <tbody>\n",
              "    <tr>\n",
              "      <th>0</th>\n",
              "      <td>39</td>\n",
              "      <td>State-gov</td>\n",
              "      <td>Bachelors</td>\n",
              "      <td>13</td>\n",
              "      <td>Never-married</td>\n",
              "      <td>Adm-clerical</td>\n",
              "      <td>Not-in-family</td>\n",
              "      <td>White</td>\n",
              "      <td>Male</td>\n",
              "      <td>2174</td>\n",
              "      <td>0</td>\n",
              "      <td>40</td>\n",
              "      <td>United-States</td>\n",
              "      <td>&lt;=50K</td>\n",
              "    </tr>\n",
              "    <tr>\n",
              "      <th>1</th>\n",
              "      <td>50</td>\n",
              "      <td>Self-emp-not-inc</td>\n",
              "      <td>Bachelors</td>\n",
              "      <td>13</td>\n",
              "      <td>Married-civ-spouse</td>\n",
              "      <td>Exec-managerial</td>\n",
              "      <td>Husband</td>\n",
              "      <td>White</td>\n",
              "      <td>Male</td>\n",
              "      <td>0</td>\n",
              "      <td>0</td>\n",
              "      <td>13</td>\n",
              "      <td>United-States</td>\n",
              "      <td>&lt;=50K</td>\n",
              "    </tr>\n",
              "    <tr>\n",
              "      <th>2</th>\n",
              "      <td>38</td>\n",
              "      <td>Private</td>\n",
              "      <td>HS-grad</td>\n",
              "      <td>9</td>\n",
              "      <td>Divorced</td>\n",
              "      <td>Handlers-cleaners</td>\n",
              "      <td>Not-in-family</td>\n",
              "      <td>White</td>\n",
              "      <td>Male</td>\n",
              "      <td>0</td>\n",
              "      <td>0</td>\n",
              "      <td>40</td>\n",
              "      <td>United-States</td>\n",
              "      <td>&lt;=50K</td>\n",
              "    </tr>\n",
              "    <tr>\n",
              "      <th>3</th>\n",
              "      <td>53</td>\n",
              "      <td>Private</td>\n",
              "      <td>11th</td>\n",
              "      <td>7</td>\n",
              "      <td>Married-civ-spouse</td>\n",
              "      <td>Handlers-cleaners</td>\n",
              "      <td>Husband</td>\n",
              "      <td>Black</td>\n",
              "      <td>Male</td>\n",
              "      <td>0</td>\n",
              "      <td>0</td>\n",
              "      <td>40</td>\n",
              "      <td>United-States</td>\n",
              "      <td>&lt;=50K</td>\n",
              "    </tr>\n",
              "    <tr>\n",
              "      <th>4</th>\n",
              "      <td>28</td>\n",
              "      <td>Private</td>\n",
              "      <td>Bachelors</td>\n",
              "      <td>13</td>\n",
              "      <td>Married-civ-spouse</td>\n",
              "      <td>Prof-specialty</td>\n",
              "      <td>Wife</td>\n",
              "      <td>Black</td>\n",
              "      <td>Female</td>\n",
              "      <td>0</td>\n",
              "      <td>0</td>\n",
              "      <td>40</td>\n",
              "      <td>Cuba</td>\n",
              "      <td>&lt;=50K</td>\n",
              "    </tr>\n",
              "    <tr>\n",
              "      <th>...</th>\n",
              "      <td>...</td>\n",
              "      <td>...</td>\n",
              "      <td>...</td>\n",
              "      <td>...</td>\n",
              "      <td>...</td>\n",
              "      <td>...</td>\n",
              "      <td>...</td>\n",
              "      <td>...</td>\n",
              "      <td>...</td>\n",
              "      <td>...</td>\n",
              "      <td>...</td>\n",
              "      <td>...</td>\n",
              "      <td>...</td>\n",
              "      <td>...</td>\n",
              "    </tr>\n",
              "    <tr>\n",
              "      <th>32556</th>\n",
              "      <td>27</td>\n",
              "      <td>Private</td>\n",
              "      <td>Assoc-acdm</td>\n",
              "      <td>12</td>\n",
              "      <td>Married-civ-spouse</td>\n",
              "      <td>Tech-support</td>\n",
              "      <td>Wife</td>\n",
              "      <td>White</td>\n",
              "      <td>Female</td>\n",
              "      <td>0</td>\n",
              "      <td>0</td>\n",
              "      <td>38</td>\n",
              "      <td>United-States</td>\n",
              "      <td>&lt;=50K</td>\n",
              "    </tr>\n",
              "    <tr>\n",
              "      <th>32557</th>\n",
              "      <td>40</td>\n",
              "      <td>Private</td>\n",
              "      <td>HS-grad</td>\n",
              "      <td>9</td>\n",
              "      <td>Married-civ-spouse</td>\n",
              "      <td>Machine-op-inspct</td>\n",
              "      <td>Husband</td>\n",
              "      <td>White</td>\n",
              "      <td>Male</td>\n",
              "      <td>0</td>\n",
              "      <td>0</td>\n",
              "      <td>40</td>\n",
              "      <td>United-States</td>\n",
              "      <td>&gt;50K</td>\n",
              "    </tr>\n",
              "    <tr>\n",
              "      <th>32558</th>\n",
              "      <td>58</td>\n",
              "      <td>Private</td>\n",
              "      <td>HS-grad</td>\n",
              "      <td>9</td>\n",
              "      <td>Widowed</td>\n",
              "      <td>Adm-clerical</td>\n",
              "      <td>Unmarried</td>\n",
              "      <td>White</td>\n",
              "      <td>Female</td>\n",
              "      <td>0</td>\n",
              "      <td>0</td>\n",
              "      <td>40</td>\n",
              "      <td>United-States</td>\n",
              "      <td>&lt;=50K</td>\n",
              "    </tr>\n",
              "    <tr>\n",
              "      <th>32559</th>\n",
              "      <td>22</td>\n",
              "      <td>Private</td>\n",
              "      <td>HS-grad</td>\n",
              "      <td>9</td>\n",
              "      <td>Never-married</td>\n",
              "      <td>Adm-clerical</td>\n",
              "      <td>Own-child</td>\n",
              "      <td>White</td>\n",
              "      <td>Male</td>\n",
              "      <td>0</td>\n",
              "      <td>0</td>\n",
              "      <td>20</td>\n",
              "      <td>United-States</td>\n",
              "      <td>&lt;=50K</td>\n",
              "    </tr>\n",
              "    <tr>\n",
              "      <th>32560</th>\n",
              "      <td>52</td>\n",
              "      <td>Self-emp-inc</td>\n",
              "      <td>HS-grad</td>\n",
              "      <td>9</td>\n",
              "      <td>Married-civ-spouse</td>\n",
              "      <td>Exec-managerial</td>\n",
              "      <td>Wife</td>\n",
              "      <td>White</td>\n",
              "      <td>Female</td>\n",
              "      <td>15024</td>\n",
              "      <td>0</td>\n",
              "      <td>40</td>\n",
              "      <td>United-States</td>\n",
              "      <td>&gt;50K</td>\n",
              "    </tr>\n",
              "  </tbody>\n",
              "</table>\n",
              "<p>32561 rows × 14 columns</p>\n",
              "</div>"
            ],
            "text/plain": [
              "      Age         WorkClass   Education  ... HoursPerWeek  NativeCountry Income\n",
              "0      39         State-gov   Bachelors  ...           40  United-States  <=50K\n",
              "1      50  Self-emp-not-inc   Bachelors  ...           13  United-States  <=50K\n",
              "2      38           Private     HS-grad  ...           40  United-States  <=50K\n",
              "3      53           Private        11th  ...           40  United-States  <=50K\n",
              "4      28           Private   Bachelors  ...           40           Cuba  <=50K\n",
              "...    ..               ...         ...  ...          ...            ...    ...\n",
              "32556  27           Private  Assoc-acdm  ...           38  United-States  <=50K\n",
              "32557  40           Private     HS-grad  ...           40  United-States   >50K\n",
              "32558  58           Private     HS-grad  ...           40  United-States  <=50K\n",
              "32559  22           Private     HS-grad  ...           20  United-States  <=50K\n",
              "32560  52      Self-emp-inc     HS-grad  ...           40  United-States   >50K\n",
              "\n",
              "[32561 rows x 14 columns]"
            ]
          },
          "metadata": {},
          "execution_count": 12
        }
      ]
    },
    {
      "cell_type": "markdown",
      "metadata": {
        "id": "CxrS61t_hb4Z"
      },
      "source": [
        "Check for missing values..."
      ]
    },
    {
      "cell_type": "code",
      "metadata": {
        "colab": {
          "base_uri": "https://localhost:8080/"
        },
        "id": "CB2jGfFDi3o7",
        "outputId": "981977a6-a591-44bd-b63e-f22a75fd1ae1"
      },
      "source": [
        "dataset.select(*(sum(col(c).isNull().cast(\"int\")).alias(c) \\\n",
        "                 for c in dataset.columns)).show()"
      ],
      "execution_count": null,
      "outputs": [
        {
          "output_type": "stream",
          "name": "stdout",
          "text": [
            "+---+---------+---------+------------+-------------+----------+------------+----+------+-----------+-----------+------------+-------------+------+\n",
            "|Age|WorkClass|Education|EducationNum|MaritalStatus|Occupation|Relationship|Race|Gender|CapitalGain|CapitalLoss|HoursPerWeek|NativeCountry|Income|\n",
            "+---+---------+---------+------------+-------------+----------+------------+----+------+-----------+-----------+------------+-------------+------+\n",
            "|  0|        0|        0|           0|            0|         0|           0|   0|     0|          0|          0|           0|            0|     0|\n",
            "+---+---------+---------+------------+-------------+----------+------------+----+------+-----------+-----------+------------+-------------+------+\n",
            "\n"
          ]
        }
      ]
    },
    {
      "cell_type": "markdown",
      "metadata": {
        "id": "2jL6AZC0oAfS"
      },
      "source": [
        "Looks like there is none, but careful, missing values in the data can also be represented by '?'\n",
        "\n",
        "Let's check for \"?\" in each column of the data."
      ]
    },
    {
      "cell_type": "code",
      "metadata": {
        "colab": {
          "base_uri": "https://localhost:8080/"
        },
        "id": "HfqnW1ESnTd5",
        "outputId": "7416c209-74df-4a3a-ecaf-00800cade1db"
      },
      "source": [
        "for col in dataset.columns:\n",
        "  print(col, \"\\t\", \"with '?' values:\", dataset.filter(dataset[col]==\"?\").count())"
      ],
      "execution_count": null,
      "outputs": [
        {
          "output_type": "stream",
          "name": "stdout",
          "text": [
            "Age \t with '?' values: 0\n",
            "WorkClass \t with '?' values: 1836\n",
            "Education \t with '?' values: 0\n",
            "EducationNum \t with '?' values: 0\n",
            "MaritalStatus \t with '?' values: 0\n",
            "Occupation \t with '?' values: 1843\n",
            "Relationship \t with '?' values: 0\n",
            "Race \t with '?' values: 0\n",
            "Gender \t with '?' values: 0\n",
            "CapitalGain \t with '?' values: 0\n",
            "CapitalLoss \t with '?' values: 0\n",
            "HoursPerWeek \t with '?' values: 0\n",
            "NativeCountry \t with '?' values: 583\n",
            "Income \t with '?' values: 0\n"
          ]
        }
      ]
    },
    {
      "cell_type": "markdown",
      "metadata": {
        "id": "-Cg5YRU-okPk"
      },
      "source": [
        "You can directly inspect the particular columns with \"?\"..."
      ]
    },
    {
      "cell_type": "code",
      "metadata": {
        "colab": {
          "base_uri": "https://localhost:8080/"
        },
        "id": "HCl4TsjLmdFf",
        "outputId": "17e3c75b-b03a-482e-94d8-b4c4aee37a0e"
      },
      "source": [
        "cols = [\"WorkClass\", \"Occupation\", \"NativeCountry\"]\n",
        "\n",
        "for col in cols:\n",
        "  print(dataset.select(col).distinct().rdd.map(lambda r: r[0]).collect())\n",
        "  print(\"\\n\")"
      ],
      "execution_count": null,
      "outputs": [
        {
          "output_type": "stream",
          "name": "stdout",
          "text": [
            "['Self-emp-not-inc', 'Local-gov', 'State-gov', 'Private', 'Without-pay', 'Federal-gov', 'Never-worked', '?', 'Self-emp-inc']\n",
            "\n",
            "\n",
            "['Sales', 'Exec-managerial', 'Prof-specialty', 'Handlers-cleaners', 'Farming-fishing', 'Craft-repair', 'Transport-moving', 'Priv-house-serv', 'Protective-serv', 'Other-service', 'Tech-support', 'Machine-op-inspct', 'Armed-Forces', '?', 'Adm-clerical']\n",
            "\n",
            "\n",
            "['Philippines', 'Germany', 'Cambodia', 'France', 'Greece', 'Taiwan', 'Ecuador', 'Nicaragua', 'Hong', 'Peru', 'India', 'China', 'Italy', 'Holand-Netherlands', 'Cuba', 'South', 'Iran', 'Ireland', 'Thailand', 'Laos', 'El-Salvador', 'Mexico', 'Guatemala', 'Honduras', 'Yugoslavia', 'Puerto-Rico', 'Jamaica', 'Canada', 'United-States', 'Dominican-Republic', 'Outlying-US(Guam-USVI-etc)', 'Japan', 'England', 'Haiti', 'Poland', 'Portugal', '?', 'Columbia', 'Scotland', 'Hungary', 'Vietnam', 'Trinadad&Tobago']\n",
            "\n",
            "\n"
          ]
        }
      ]
    },
    {
      "cell_type": "markdown",
      "metadata": {
        "id": "uAdBC5DCeFxJ"
      },
      "source": [
        "Convert missing values represented by \"?\" to null values so they can be treated as missing values..."
      ]
    },
    {
      "cell_type": "code",
      "metadata": {
        "collapsed": true,
        "id": "OMLs09RfeFxK"
      },
      "source": [
        "dataset = dataset.replace('?', None)"
      ],
      "execution_count": null,
      "outputs": []
    },
    {
      "cell_type": "markdown",
      "metadata": {
        "id": "BPrMdYNQqobo"
      },
      "source": [
        "Run a prior code again for check missing values in your data now, as you have replaced \"?\" with null values..."
      ]
    },
    {
      "cell_type": "code",
      "metadata": {
        "colab": {
          "base_uri": "https://localhost:8080/"
        },
        "id": "yekZd1bgqkwC",
        "outputId": "9d8f68e3-0098-4f33-a6b1-88102d6875f8"
      },
      "source": [
        "#from pyspark.sql.functions import col, sum\n",
        "dataset.select(*(sum(col(c).isNull().cast(\"int\")).alias(c) \\\n",
        "                 for c in dataset.columns)).show()"
      ],
      "execution_count": null,
      "outputs": [
        {
          "output_type": "stream",
          "name": "stdout",
          "text": [
            "+---+---------+---------+------------+-------------+----------+------------+----+------+-----------+-----------+------------+-------------+------+\n",
            "|Age|WorkClass|Education|EducationNum|MaritalStatus|Occupation|Relationship|Race|Gender|CapitalGain|CapitalLoss|HoursPerWeek|NativeCountry|Income|\n",
            "+---+---------+---------+------------+-------------+----------+------------+----+------+-----------+-----------+------------+-------------+------+\n",
            "|  0|     1836|        0|           0|            0|      1843|           0|   0|     0|          0|          0|           0|          583|     0|\n",
            "+---+---------+---------+------------+-------------+----------+------------+----+------+-----------+-----------+------------+-------------+------+\n",
            "\n"
          ]
        }
      ]
    },
    {
      "cell_type": "markdown",
      "metadata": {
        "id": "Cw4XfuF_rQjT"
      },
      "source": [
        "You can see there are now missing values in the 3 columns we performed operations on. Drop all rows which contain even a single missing value\n",
        "The value `'any'` for parameter how specifies that even a single missing value in a row should result in it being dropped (as opposed to `'all'` where all values need to be missing)."
      ]
    },
    {
      "cell_type": "code",
      "metadata": {
        "collapsed": true,
        "id": "nqrrkF5xeFxK"
      },
      "source": [
        "dataset = dataset.dropna(how='any')"
      ],
      "execution_count": null,
      "outputs": []
    },
    {
      "cell_type": "markdown",
      "metadata": {
        "id": "__XCNA8ceFxI"
      },
      "source": [
        "Count observations in dataset..."
      ]
    },
    {
      "cell_type": "code",
      "metadata": {
        "colab": {
          "base_uri": "https://localhost:8080/"
        },
        "id": "2PAclgupeFxJ",
        "outputId": "92989339-11d1-4527-a107-712e9e97bc23"
      },
      "source": [
        "dataset.count()"
      ],
      "execution_count": null,
      "outputs": [
        {
          "output_type": "execute_result",
          "data": {
            "text/plain": [
              "30162"
            ]
          },
          "metadata": {},
          "execution_count": 19
        }
      ]
    },
    {
      "cell_type": "markdown",
      "metadata": {
        "id": "q1qoa0d_eFxL"
      },
      "source": [
        "That's about 2,000+ observations dropped. This should likely not affect your analysis.\n",
        "\n",
        "You can inspect the DataFrame...\n"
      ]
    },
    {
      "cell_type": "code",
      "metadata": {
        "colab": {
          "base_uri": "https://localhost:8080/",
          "height": 615
        },
        "id": "s64RfZ3neFxM",
        "outputId": "c250e49e-3768-4ed5-ed59-d172adebd967"
      },
      "source": [
        "dataset.toPandas()"
      ],
      "execution_count": null,
      "outputs": [
        {
          "output_type": "execute_result",
          "data": {
            "text/html": [
              "<div>\n",
              "<style scoped>\n",
              "    .dataframe tbody tr th:only-of-type {\n",
              "        vertical-align: middle;\n",
              "    }\n",
              "\n",
              "    .dataframe tbody tr th {\n",
              "        vertical-align: top;\n",
              "    }\n",
              "\n",
              "    .dataframe thead th {\n",
              "        text-align: right;\n",
              "    }\n",
              "</style>\n",
              "<table border=\"1\" class=\"dataframe\">\n",
              "  <thead>\n",
              "    <tr style=\"text-align: right;\">\n",
              "      <th></th>\n",
              "      <th>Age</th>\n",
              "      <th>WorkClass</th>\n",
              "      <th>Education</th>\n",
              "      <th>EducationNum</th>\n",
              "      <th>MaritalStatus</th>\n",
              "      <th>Occupation</th>\n",
              "      <th>Relationship</th>\n",
              "      <th>Race</th>\n",
              "      <th>Gender</th>\n",
              "      <th>CapitalGain</th>\n",
              "      <th>CapitalLoss</th>\n",
              "      <th>HoursPerWeek</th>\n",
              "      <th>NativeCountry</th>\n",
              "      <th>Income</th>\n",
              "    </tr>\n",
              "  </thead>\n",
              "  <tbody>\n",
              "    <tr>\n",
              "      <th>0</th>\n",
              "      <td>39</td>\n",
              "      <td>State-gov</td>\n",
              "      <td>Bachelors</td>\n",
              "      <td>13</td>\n",
              "      <td>Never-married</td>\n",
              "      <td>Adm-clerical</td>\n",
              "      <td>Not-in-family</td>\n",
              "      <td>White</td>\n",
              "      <td>Male</td>\n",
              "      <td>2174</td>\n",
              "      <td>0</td>\n",
              "      <td>40</td>\n",
              "      <td>United-States</td>\n",
              "      <td>&lt;=50K</td>\n",
              "    </tr>\n",
              "    <tr>\n",
              "      <th>1</th>\n",
              "      <td>50</td>\n",
              "      <td>Self-emp-not-inc</td>\n",
              "      <td>Bachelors</td>\n",
              "      <td>13</td>\n",
              "      <td>Married-civ-spouse</td>\n",
              "      <td>Exec-managerial</td>\n",
              "      <td>Husband</td>\n",
              "      <td>White</td>\n",
              "      <td>Male</td>\n",
              "      <td>0</td>\n",
              "      <td>0</td>\n",
              "      <td>13</td>\n",
              "      <td>United-States</td>\n",
              "      <td>&lt;=50K</td>\n",
              "    </tr>\n",
              "    <tr>\n",
              "      <th>2</th>\n",
              "      <td>38</td>\n",
              "      <td>Private</td>\n",
              "      <td>HS-grad</td>\n",
              "      <td>9</td>\n",
              "      <td>Divorced</td>\n",
              "      <td>Handlers-cleaners</td>\n",
              "      <td>Not-in-family</td>\n",
              "      <td>White</td>\n",
              "      <td>Male</td>\n",
              "      <td>0</td>\n",
              "      <td>0</td>\n",
              "      <td>40</td>\n",
              "      <td>United-States</td>\n",
              "      <td>&lt;=50K</td>\n",
              "    </tr>\n",
              "    <tr>\n",
              "      <th>3</th>\n",
              "      <td>53</td>\n",
              "      <td>Private</td>\n",
              "      <td>11th</td>\n",
              "      <td>7</td>\n",
              "      <td>Married-civ-spouse</td>\n",
              "      <td>Handlers-cleaners</td>\n",
              "      <td>Husband</td>\n",
              "      <td>Black</td>\n",
              "      <td>Male</td>\n",
              "      <td>0</td>\n",
              "      <td>0</td>\n",
              "      <td>40</td>\n",
              "      <td>United-States</td>\n",
              "      <td>&lt;=50K</td>\n",
              "    </tr>\n",
              "    <tr>\n",
              "      <th>4</th>\n",
              "      <td>28</td>\n",
              "      <td>Private</td>\n",
              "      <td>Bachelors</td>\n",
              "      <td>13</td>\n",
              "      <td>Married-civ-spouse</td>\n",
              "      <td>Prof-specialty</td>\n",
              "      <td>Wife</td>\n",
              "      <td>Black</td>\n",
              "      <td>Female</td>\n",
              "      <td>0</td>\n",
              "      <td>0</td>\n",
              "      <td>40</td>\n",
              "      <td>Cuba</td>\n",
              "      <td>&lt;=50K</td>\n",
              "    </tr>\n",
              "    <tr>\n",
              "      <th>...</th>\n",
              "      <td>...</td>\n",
              "      <td>...</td>\n",
              "      <td>...</td>\n",
              "      <td>...</td>\n",
              "      <td>...</td>\n",
              "      <td>...</td>\n",
              "      <td>...</td>\n",
              "      <td>...</td>\n",
              "      <td>...</td>\n",
              "      <td>...</td>\n",
              "      <td>...</td>\n",
              "      <td>...</td>\n",
              "      <td>...</td>\n",
              "      <td>...</td>\n",
              "    </tr>\n",
              "    <tr>\n",
              "      <th>30157</th>\n",
              "      <td>27</td>\n",
              "      <td>Private</td>\n",
              "      <td>Assoc-acdm</td>\n",
              "      <td>12</td>\n",
              "      <td>Married-civ-spouse</td>\n",
              "      <td>Tech-support</td>\n",
              "      <td>Wife</td>\n",
              "      <td>White</td>\n",
              "      <td>Female</td>\n",
              "      <td>0</td>\n",
              "      <td>0</td>\n",
              "      <td>38</td>\n",
              "      <td>United-States</td>\n",
              "      <td>&lt;=50K</td>\n",
              "    </tr>\n",
              "    <tr>\n",
              "      <th>30158</th>\n",
              "      <td>40</td>\n",
              "      <td>Private</td>\n",
              "      <td>HS-grad</td>\n",
              "      <td>9</td>\n",
              "      <td>Married-civ-spouse</td>\n",
              "      <td>Machine-op-inspct</td>\n",
              "      <td>Husband</td>\n",
              "      <td>White</td>\n",
              "      <td>Male</td>\n",
              "      <td>0</td>\n",
              "      <td>0</td>\n",
              "      <td>40</td>\n",
              "      <td>United-States</td>\n",
              "      <td>&gt;50K</td>\n",
              "    </tr>\n",
              "    <tr>\n",
              "      <th>30159</th>\n",
              "      <td>58</td>\n",
              "      <td>Private</td>\n",
              "      <td>HS-grad</td>\n",
              "      <td>9</td>\n",
              "      <td>Widowed</td>\n",
              "      <td>Adm-clerical</td>\n",
              "      <td>Unmarried</td>\n",
              "      <td>White</td>\n",
              "      <td>Female</td>\n",
              "      <td>0</td>\n",
              "      <td>0</td>\n",
              "      <td>40</td>\n",
              "      <td>United-States</td>\n",
              "      <td>&lt;=50K</td>\n",
              "    </tr>\n",
              "    <tr>\n",
              "      <th>30160</th>\n",
              "      <td>22</td>\n",
              "      <td>Private</td>\n",
              "      <td>HS-grad</td>\n",
              "      <td>9</td>\n",
              "      <td>Never-married</td>\n",
              "      <td>Adm-clerical</td>\n",
              "      <td>Own-child</td>\n",
              "      <td>White</td>\n",
              "      <td>Male</td>\n",
              "      <td>0</td>\n",
              "      <td>0</td>\n",
              "      <td>20</td>\n",
              "      <td>United-States</td>\n",
              "      <td>&lt;=50K</td>\n",
              "    </tr>\n",
              "    <tr>\n",
              "      <th>30161</th>\n",
              "      <td>52</td>\n",
              "      <td>Self-emp-inc</td>\n",
              "      <td>HS-grad</td>\n",
              "      <td>9</td>\n",
              "      <td>Married-civ-spouse</td>\n",
              "      <td>Exec-managerial</td>\n",
              "      <td>Wife</td>\n",
              "      <td>White</td>\n",
              "      <td>Female</td>\n",
              "      <td>15024</td>\n",
              "      <td>0</td>\n",
              "      <td>40</td>\n",
              "      <td>United-States</td>\n",
              "      <td>&gt;50K</td>\n",
              "    </tr>\n",
              "  </tbody>\n",
              "</table>\n",
              "<p>30162 rows × 14 columns</p>\n",
              "</div>"
            ],
            "text/plain": [
              "      Age         WorkClass   Education  ... HoursPerWeek  NativeCountry Income\n",
              "0      39         State-gov   Bachelors  ...           40  United-States  <=50K\n",
              "1      50  Self-emp-not-inc   Bachelors  ...           13  United-States  <=50K\n",
              "2      38           Private     HS-grad  ...           40  United-States  <=50K\n",
              "3      53           Private        11th  ...           40  United-States  <=50K\n",
              "4      28           Private   Bachelors  ...           40           Cuba  <=50K\n",
              "...    ..               ...         ...  ...          ...            ...    ...\n",
              "30157  27           Private  Assoc-acdm  ...           38  United-States  <=50K\n",
              "30158  40           Private     HS-grad  ...           40  United-States   >50K\n",
              "30159  58           Private     HS-grad  ...           40  United-States  <=50K\n",
              "30160  22           Private     HS-grad  ...           20  United-States  <=50K\n",
              "30161  52      Self-emp-inc     HS-grad  ...           40  United-States   >50K\n",
              "\n",
              "[30162 rows x 14 columns]"
            ]
          },
          "metadata": {},
          "execution_count": 20
        }
      ]
    },
    {
      "cell_type": "markdown",
      "metadata": {
        "id": "mntQ7Z9U74m7"
      },
      "source": [
        "## (Optional) Data Exploration"
      ]
    },
    {
      "cell_type": "markdown",
      "metadata": {
        "id": "hooGhEmm79bk"
      },
      "source": [
        "Explore the data to check for potential class imbalance, as it's a classification problem--especially a binary classification problem."
      ]
    },
    {
      "cell_type": "code",
      "metadata": {
        "colab": {
          "base_uri": "https://localhost:8080/"
        },
        "id": "3VOL2kLS7-DO",
        "outputId": "bdb0e1cc-d4ab-4a48-ac7a-ed06870d0b6b"
      },
      "source": [
        "IncomeDF = dataset.groupBy('Income').count()\\\n",
        "              .select(func.col(\"Income\")\\\n",
        "              .alias(\"distinct_Income\"),\\\n",
        "              ((func.col(\"count\")/dataset.count())*100)\\\n",
        "              .alias(\"Income_percentage\"))\n",
        "\n",
        "# Round up the percentage to the nearest 2 decimal places.\n",
        "IncomeDF_per = IncomeDF.withColumn(\"Income_%\", \\\n",
        "                                   round(IncomeDF[\"Income_percentage\"], 2))\n",
        "\n",
        "# Drop the original percentage column\n",
        "IncomeDF_per = IncomeDF_per.drop(\"Income_percentage\")\n",
        "\n",
        "# Show the income level percentage\n",
        "IncomeDF_per.show()          "
      ],
      "execution_count": null,
      "outputs": [
        {
          "output_type": "stream",
          "name": "stdout",
          "text": [
            "+---------------+--------+\n",
            "|distinct_Income|Income_%|\n",
            "+---------------+--------+\n",
            "|          <=50K|   75.11|\n",
            "|           >50K|   24.89|\n",
            "+---------------+--------+\n",
            "\n"
          ]
        }
      ]
    },
    {
      "cell_type": "markdown",
      "metadata": {
        "id": "GCkcYbERocpr"
      },
      "source": [
        "\n",
        "The classes are imbalanced, with a skew toward the ‘<=50K‘ class label.\n",
        "\n",
        "- ‘>50K’ (the hig income class for adults in this census) is right around 25%.\n",
        "- ‘<=50K’ (the minority income class for adults in this census) is right around 75%."
      ]
    },
    {
      "cell_type": "markdown",
      "metadata": {
        "id": "ds-_iN7B3M-U"
      },
      "source": [
        "You want to ensure model performs higher than 75% in terms of performance, as this is the baseline that indicates your model (if deployed) may actually provide any sort of value to the marketing department.\n",
        "\n",
        "Of course, the closer to a 100% the model performs, the better. But this will inevitably be determined by what performance metric you choose to use. In this case, given that the class imbalance is not severe and that both class labels are equally important, it is common to use classification accuracy or classification error to report model performance on this dataset.\n",
        "\n",
        "This means techniques for imbalanced classification can be used whilst model performance can still be reported using classification accuracy, as is used with balanced classification problems."
      ]
    },
    {
      "cell_type": "markdown",
      "metadata": {
        "id": "3KBFxvH2dxcN"
      },
      "source": [
        "## Data Preparation/Feature Engineering"
      ]
    },
    {
      "cell_type": "markdown",
      "metadata": {
        "id": "IPuy6_09eFxM"
      },
      "source": [
        "From the dataset schema, you could see that all the features and label have a `String` datatype. However, there are some features that are meant to be numeric (`Float`) datatypes (for better precision).\n",
        "\n",
        "Some of these include: `Age`, `EducationNum`, `CapitalGain`, `CapitalLoss`, `HoursPerWeek`."
      ]
    },
    {
      "cell_type": "code",
      "metadata": {
        "colab": {
          "base_uri": "https://localhost:8080/",
          "height": 312
        },
        "id": "yMGtUGZTeFxN",
        "outputId": "39b0ea10-fab8-4c11-8090-05fe9b879e7c"
      },
      "source": [
        "\n",
        "dataset = dataset.withColumn('Age', \n",
        "                             dataset['Age'].cast(FloatType()))\n",
        "dataset = dataset.withColumn('EducationNum', \n",
        "                             dataset['EducationNum'].cast(FloatType()))\n",
        "dataset = dataset.withColumn('CapitalGain', \n",
        "                             dataset['CapitalGain'].cast(FloatType()))\n",
        "dataset = dataset.withColumn('CapitalLoss', \n",
        "                             dataset['CapitalLoss'].cast(FloatType()))\n",
        "dataset = dataset.withColumn('HoursPerWeek', \n",
        "                             dataset['HoursPerWeek'].cast(FloatType()))\n",
        "\n",
        "dataset.toPandas().head()"
      ],
      "execution_count": null,
      "outputs": [
        {
          "output_type": "execute_result",
          "data": {
            "text/html": [
              "<div>\n",
              "<style scoped>\n",
              "    .dataframe tbody tr th:only-of-type {\n",
              "        vertical-align: middle;\n",
              "    }\n",
              "\n",
              "    .dataframe tbody tr th {\n",
              "        vertical-align: top;\n",
              "    }\n",
              "\n",
              "    .dataframe thead th {\n",
              "        text-align: right;\n",
              "    }\n",
              "</style>\n",
              "<table border=\"1\" class=\"dataframe\">\n",
              "  <thead>\n",
              "    <tr style=\"text-align: right;\">\n",
              "      <th></th>\n",
              "      <th>Age</th>\n",
              "      <th>WorkClass</th>\n",
              "      <th>Education</th>\n",
              "      <th>EducationNum</th>\n",
              "      <th>MaritalStatus</th>\n",
              "      <th>Occupation</th>\n",
              "      <th>Relationship</th>\n",
              "      <th>Race</th>\n",
              "      <th>Gender</th>\n",
              "      <th>CapitalGain</th>\n",
              "      <th>CapitalLoss</th>\n",
              "      <th>HoursPerWeek</th>\n",
              "      <th>NativeCountry</th>\n",
              "      <th>Income</th>\n",
              "    </tr>\n",
              "  </thead>\n",
              "  <tbody>\n",
              "    <tr>\n",
              "      <th>0</th>\n",
              "      <td>39.0</td>\n",
              "      <td>State-gov</td>\n",
              "      <td>Bachelors</td>\n",
              "      <td>13.0</td>\n",
              "      <td>Never-married</td>\n",
              "      <td>Adm-clerical</td>\n",
              "      <td>Not-in-family</td>\n",
              "      <td>White</td>\n",
              "      <td>Male</td>\n",
              "      <td>2174.0</td>\n",
              "      <td>0.0</td>\n",
              "      <td>40.0</td>\n",
              "      <td>United-States</td>\n",
              "      <td>&lt;=50K</td>\n",
              "    </tr>\n",
              "    <tr>\n",
              "      <th>1</th>\n",
              "      <td>50.0</td>\n",
              "      <td>Self-emp-not-inc</td>\n",
              "      <td>Bachelors</td>\n",
              "      <td>13.0</td>\n",
              "      <td>Married-civ-spouse</td>\n",
              "      <td>Exec-managerial</td>\n",
              "      <td>Husband</td>\n",
              "      <td>White</td>\n",
              "      <td>Male</td>\n",
              "      <td>0.0</td>\n",
              "      <td>0.0</td>\n",
              "      <td>13.0</td>\n",
              "      <td>United-States</td>\n",
              "      <td>&lt;=50K</td>\n",
              "    </tr>\n",
              "    <tr>\n",
              "      <th>2</th>\n",
              "      <td>38.0</td>\n",
              "      <td>Private</td>\n",
              "      <td>HS-grad</td>\n",
              "      <td>9.0</td>\n",
              "      <td>Divorced</td>\n",
              "      <td>Handlers-cleaners</td>\n",
              "      <td>Not-in-family</td>\n",
              "      <td>White</td>\n",
              "      <td>Male</td>\n",
              "      <td>0.0</td>\n",
              "      <td>0.0</td>\n",
              "      <td>40.0</td>\n",
              "      <td>United-States</td>\n",
              "      <td>&lt;=50K</td>\n",
              "    </tr>\n",
              "    <tr>\n",
              "      <th>3</th>\n",
              "      <td>53.0</td>\n",
              "      <td>Private</td>\n",
              "      <td>11th</td>\n",
              "      <td>7.0</td>\n",
              "      <td>Married-civ-spouse</td>\n",
              "      <td>Handlers-cleaners</td>\n",
              "      <td>Husband</td>\n",
              "      <td>Black</td>\n",
              "      <td>Male</td>\n",
              "      <td>0.0</td>\n",
              "      <td>0.0</td>\n",
              "      <td>40.0</td>\n",
              "      <td>United-States</td>\n",
              "      <td>&lt;=50K</td>\n",
              "    </tr>\n",
              "    <tr>\n",
              "      <th>4</th>\n",
              "      <td>28.0</td>\n",
              "      <td>Private</td>\n",
              "      <td>Bachelors</td>\n",
              "      <td>13.0</td>\n",
              "      <td>Married-civ-spouse</td>\n",
              "      <td>Prof-specialty</td>\n",
              "      <td>Wife</td>\n",
              "      <td>Black</td>\n",
              "      <td>Female</td>\n",
              "      <td>0.0</td>\n",
              "      <td>0.0</td>\n",
              "      <td>40.0</td>\n",
              "      <td>Cuba</td>\n",
              "      <td>&lt;=50K</td>\n",
              "    </tr>\n",
              "  </tbody>\n",
              "</table>\n",
              "</div>"
            ],
            "text/plain": [
              "    Age         WorkClass  Education  ...  HoursPerWeek  NativeCountry Income\n",
              "0  39.0         State-gov  Bachelors  ...          40.0  United-States  <=50K\n",
              "1  50.0  Self-emp-not-inc  Bachelors  ...          13.0  United-States  <=50K\n",
              "2  38.0           Private    HS-grad  ...          40.0  United-States  <=50K\n",
              "3  53.0           Private       11th  ...          40.0  United-States  <=50K\n",
              "4  28.0           Private  Bachelors  ...          40.0           Cuba  <=50K\n",
              "\n",
              "[5 rows x 14 columns]"
            ]
          },
          "metadata": {},
          "execution_count": 22
        }
      ]
    },
    {
      "cell_type": "markdown",
      "metadata": {
        "id": "GWJz31XrS5RA"
      },
      "source": [
        "Now we can check the datatypes to see if our features were converted..."
      ]
    },
    {
      "cell_type": "code",
      "metadata": {
        "colab": {
          "base_uri": "https://localhost:8080/"
        },
        "id": "JSO7ku70RuAo",
        "outputId": "b6523229-40ce-4664-8d4b-b9b75e88d1b8"
      },
      "source": [
        "dataset.schema.fields\n",
        "\n",
        "# You can also do this with:\n",
        "#dataset.dtypes"
      ],
      "execution_count": null,
      "outputs": [
        {
          "output_type": "execute_result",
          "data": {
            "text/plain": [
              "[StructField(Age,FloatType,true),\n",
              " StructField(WorkClass,StringType,true),\n",
              " StructField(Education,StringType,true),\n",
              " StructField(EducationNum,FloatType,true),\n",
              " StructField(MaritalStatus,StringType,true),\n",
              " StructField(Occupation,StringType,true),\n",
              " StructField(Relationship,StringType,true),\n",
              " StructField(Race,StringType,true),\n",
              " StructField(Gender,StringType,true),\n",
              " StructField(CapitalGain,FloatType,true),\n",
              " StructField(CapitalLoss,FloatType,true),\n",
              " StructField(HoursPerWeek,FloatType,true),\n",
              " StructField(NativeCountry,StringType,true),\n",
              " StructField(Income,StringType,true)]"
            ]
          },
          "metadata": {},
          "execution_count": 23
        }
      ]
    },
    {
      "cell_type": "markdown",
      "metadata": {
        "id": "bVLC8HxOcg2U"
      },
      "source": [
        "The schema now contain only `StringType` and `FloatType` fields."
      ]
    },
    {
      "cell_type": "markdown",
      "metadata": {
        "id": "R1BRFDhNeFxN"
      },
      "source": [
        "Spark ML offers four  different kinds of libraries to perform feature engineering:\n",
        "\n",
        "- [Feature extractors](https://spark.apache.org/docs/2.2.3/ml-features.html#feature-extractors): Extracting features from “raw” data.\n",
        "\n",
        "- [Feature transfomers](https://spark.apache.org/docs/2.2.3/ml-features.html#feature-transformers): Scaling, converting, or modifying features.\n",
        "\n",
        "- [Feature selectors](https://spark.apache.org/docs/2.2.3/ml-features.html#feature-selectors): Selecting a subset from a larger set of features.\n",
        "\n",
        "- [Locality Sensitive Hashing (LSH)](https://spark.apache.org/docs/2.2.3/ml-features.html#locality-sensitive-hashing): This class of algorithms combines aspects of feature transformation with other algorithms.\n",
        "\n",
        "[Source](https://spark.apache.org/docs/2.2.3/ml-features.html).\n"
      ]
    },
    {
      "cell_type": "markdown",
      "metadata": {
        "id": "dXM3iX8gwTZZ"
      },
      "source": [
        "### Feature Transformation"
      ]
    },
    {
      "cell_type": "markdown",
      "metadata": {
        "id": "M5XVFdn4vhlV"
      },
      "source": [
        "Start off by transforming the categorical fields. You will first use the [`StringIndexer`](https://spark.apache.org/docs/2.0.0-preview/ml-features.html#stringindexer) feature transformer to convert categorical values to indices, and then [one-hot-encode](https://en.wikipedia.org/wiki/One-hot#Machine_learning_and_statistics) them to integers."
      ]
    },
    {
      "cell_type": "code",
      "metadata": {
        "collapsed": true,
        "id": "BrzeJtaOeFxO"
      },
      "source": [
        "indexedDF = StringIndexer(\n",
        "    inputCol='WorkClass', \n",
        "    outputCol='WorkClass_index').fit(dataset).transform(dataset)"
      ],
      "execution_count": null,
      "outputs": []
    },
    {
      "cell_type": "markdown",
      "metadata": {
        "id": "5hXpj2ydeFxO"
      },
      "source": [
        "Inspect the effect of the transformer..."
      ]
    },
    {
      "cell_type": "code",
      "metadata": {
        "colab": {
          "base_uri": "https://localhost:8080/",
          "height": 312
        },
        "id": "UE8lCk0seFxP",
        "outputId": "b902865c-9214-4cec-8947-079a8f934c3a"
      },
      "source": [
        "indexedDF.toPandas().head()"
      ],
      "execution_count": null,
      "outputs": [
        {
          "output_type": "execute_result",
          "data": {
            "text/html": [
              "<div>\n",
              "<style scoped>\n",
              "    .dataframe tbody tr th:only-of-type {\n",
              "        vertical-align: middle;\n",
              "    }\n",
              "\n",
              "    .dataframe tbody tr th {\n",
              "        vertical-align: top;\n",
              "    }\n",
              "\n",
              "    .dataframe thead th {\n",
              "        text-align: right;\n",
              "    }\n",
              "</style>\n",
              "<table border=\"1\" class=\"dataframe\">\n",
              "  <thead>\n",
              "    <tr style=\"text-align: right;\">\n",
              "      <th></th>\n",
              "      <th>Age</th>\n",
              "      <th>WorkClass</th>\n",
              "      <th>Education</th>\n",
              "      <th>EducationNum</th>\n",
              "      <th>MaritalStatus</th>\n",
              "      <th>Occupation</th>\n",
              "      <th>Relationship</th>\n",
              "      <th>Race</th>\n",
              "      <th>Gender</th>\n",
              "      <th>CapitalGain</th>\n",
              "      <th>CapitalLoss</th>\n",
              "      <th>HoursPerWeek</th>\n",
              "      <th>NativeCountry</th>\n",
              "      <th>Income</th>\n",
              "      <th>WorkClass_index</th>\n",
              "    </tr>\n",
              "  </thead>\n",
              "  <tbody>\n",
              "    <tr>\n",
              "      <th>0</th>\n",
              "      <td>39.0</td>\n",
              "      <td>State-gov</td>\n",
              "      <td>Bachelors</td>\n",
              "      <td>13.0</td>\n",
              "      <td>Never-married</td>\n",
              "      <td>Adm-clerical</td>\n",
              "      <td>Not-in-family</td>\n",
              "      <td>White</td>\n",
              "      <td>Male</td>\n",
              "      <td>2174.0</td>\n",
              "      <td>0.0</td>\n",
              "      <td>40.0</td>\n",
              "      <td>United-States</td>\n",
              "      <td>&lt;=50K</td>\n",
              "      <td>3.0</td>\n",
              "    </tr>\n",
              "    <tr>\n",
              "      <th>1</th>\n",
              "      <td>50.0</td>\n",
              "      <td>Self-emp-not-inc</td>\n",
              "      <td>Bachelors</td>\n",
              "      <td>13.0</td>\n",
              "      <td>Married-civ-spouse</td>\n",
              "      <td>Exec-managerial</td>\n",
              "      <td>Husband</td>\n",
              "      <td>White</td>\n",
              "      <td>Male</td>\n",
              "      <td>0.0</td>\n",
              "      <td>0.0</td>\n",
              "      <td>13.0</td>\n",
              "      <td>United-States</td>\n",
              "      <td>&lt;=50K</td>\n",
              "      <td>1.0</td>\n",
              "    </tr>\n",
              "    <tr>\n",
              "      <th>2</th>\n",
              "      <td>38.0</td>\n",
              "      <td>Private</td>\n",
              "      <td>HS-grad</td>\n",
              "      <td>9.0</td>\n",
              "      <td>Divorced</td>\n",
              "      <td>Handlers-cleaners</td>\n",
              "      <td>Not-in-family</td>\n",
              "      <td>White</td>\n",
              "      <td>Male</td>\n",
              "      <td>0.0</td>\n",
              "      <td>0.0</td>\n",
              "      <td>40.0</td>\n",
              "      <td>United-States</td>\n",
              "      <td>&lt;=50K</td>\n",
              "      <td>0.0</td>\n",
              "    </tr>\n",
              "    <tr>\n",
              "      <th>3</th>\n",
              "      <td>53.0</td>\n",
              "      <td>Private</td>\n",
              "      <td>11th</td>\n",
              "      <td>7.0</td>\n",
              "      <td>Married-civ-spouse</td>\n",
              "      <td>Handlers-cleaners</td>\n",
              "      <td>Husband</td>\n",
              "      <td>Black</td>\n",
              "      <td>Male</td>\n",
              "      <td>0.0</td>\n",
              "      <td>0.0</td>\n",
              "      <td>40.0</td>\n",
              "      <td>United-States</td>\n",
              "      <td>&lt;=50K</td>\n",
              "      <td>0.0</td>\n",
              "    </tr>\n",
              "    <tr>\n",
              "      <th>4</th>\n",
              "      <td>28.0</td>\n",
              "      <td>Private</td>\n",
              "      <td>Bachelors</td>\n",
              "      <td>13.0</td>\n",
              "      <td>Married-civ-spouse</td>\n",
              "      <td>Prof-specialty</td>\n",
              "      <td>Wife</td>\n",
              "      <td>Black</td>\n",
              "      <td>Female</td>\n",
              "      <td>0.0</td>\n",
              "      <td>0.0</td>\n",
              "      <td>40.0</td>\n",
              "      <td>Cuba</td>\n",
              "      <td>&lt;=50K</td>\n",
              "      <td>0.0</td>\n",
              "    </tr>\n",
              "  </tbody>\n",
              "</table>\n",
              "</div>"
            ],
            "text/plain": [
              "    Age         WorkClass  Education  ...  NativeCountry Income WorkClass_index\n",
              "0  39.0         State-gov  Bachelors  ...  United-States  <=50K             3.0\n",
              "1  50.0  Self-emp-not-inc  Bachelors  ...  United-States  <=50K             1.0\n",
              "2  38.0           Private    HS-grad  ...  United-States  <=50K             0.0\n",
              "3  53.0           Private       11th  ...  United-States  <=50K             0.0\n",
              "4  28.0           Private  Bachelors  ...           Cuba  <=50K             0.0\n",
              "\n",
              "[5 rows x 15 columns]"
            ]
          },
          "metadata": {},
          "execution_count": 25
        }
      ]
    },
    {
      "cell_type": "markdown",
      "metadata": {
        "id": "xr8aokWp1Ujp"
      },
      "source": [
        "You can see that a new column called `WorkClass_index` (which stores the indexed values of WorkClass) is created and appended to the end of the DataFrame. This confirms that **transformers do not change the DataFrame but append the transformations instead**."
      ]
    },
    {
      "cell_type": "markdown",
      "metadata": {
        "id": "XSzGQ6O9eFxQ"
      },
      "source": [
        "\n",
        "You will now use the new indexed field to obtain a one-hot-encoded field:"
      ]
    },
    {
      "cell_type": "code",
      "metadata": {
        "collapsed": true,
        "id": "_DcFeUO8eFxQ"
      },
      "source": [
        "OHE = OneHotEncoder(\n",
        "    inputCol=\"WorkClass_index\", \n",
        "    outputCol=\"WorkClass_encoded\")\n",
        "\n",
        "encodedDF = OHE.fit(indexedDF)\n",
        "encodedDF = encodedDF.transform(indexedDF)"
      ],
      "execution_count": null,
      "outputs": []
    },
    {
      "cell_type": "markdown",
      "metadata": {
        "id": "MHmllsEKeFxR"
      },
      "source": [
        "The `WorkClass_encoded` field is created.\n",
        "* This contains the one-hot-encoding for the `WorkClass` variable.\n",
        "* This cannot operate directly on a column with string values - values need to be numeric. Hence we use the `WorkClass_index` as input."
      ]
    },
    {
      "cell_type": "code",
      "metadata": {
        "colab": {
          "base_uri": "https://localhost:8080/",
          "height": 312
        },
        "id": "7vB4MVYUeFxR",
        "outputId": "efeb0a2b-8e37-4521-c3d7-2768a673f720"
      },
      "source": [
        "encodedDF.toPandas().head()"
      ],
      "execution_count": null,
      "outputs": [
        {
          "output_type": "execute_result",
          "data": {
            "text/html": [
              "<div>\n",
              "<style scoped>\n",
              "    .dataframe tbody tr th:only-of-type {\n",
              "        vertical-align: middle;\n",
              "    }\n",
              "\n",
              "    .dataframe tbody tr th {\n",
              "        vertical-align: top;\n",
              "    }\n",
              "\n",
              "    .dataframe thead th {\n",
              "        text-align: right;\n",
              "    }\n",
              "</style>\n",
              "<table border=\"1\" class=\"dataframe\">\n",
              "  <thead>\n",
              "    <tr style=\"text-align: right;\">\n",
              "      <th></th>\n",
              "      <th>Age</th>\n",
              "      <th>WorkClass</th>\n",
              "      <th>Education</th>\n",
              "      <th>EducationNum</th>\n",
              "      <th>MaritalStatus</th>\n",
              "      <th>Occupation</th>\n",
              "      <th>Relationship</th>\n",
              "      <th>Race</th>\n",
              "      <th>Gender</th>\n",
              "      <th>CapitalGain</th>\n",
              "      <th>CapitalLoss</th>\n",
              "      <th>HoursPerWeek</th>\n",
              "      <th>NativeCountry</th>\n",
              "      <th>Income</th>\n",
              "      <th>WorkClass_index</th>\n",
              "      <th>WorkClass_encoded</th>\n",
              "    </tr>\n",
              "  </thead>\n",
              "  <tbody>\n",
              "    <tr>\n",
              "      <th>0</th>\n",
              "      <td>39.0</td>\n",
              "      <td>State-gov</td>\n",
              "      <td>Bachelors</td>\n",
              "      <td>13.0</td>\n",
              "      <td>Never-married</td>\n",
              "      <td>Adm-clerical</td>\n",
              "      <td>Not-in-family</td>\n",
              "      <td>White</td>\n",
              "      <td>Male</td>\n",
              "      <td>2174.0</td>\n",
              "      <td>0.0</td>\n",
              "      <td>40.0</td>\n",
              "      <td>United-States</td>\n",
              "      <td>&lt;=50K</td>\n",
              "      <td>3.0</td>\n",
              "      <td>(0.0, 0.0, 0.0, 1.0, 0.0, 0.0)</td>\n",
              "    </tr>\n",
              "    <tr>\n",
              "      <th>1</th>\n",
              "      <td>50.0</td>\n",
              "      <td>Self-emp-not-inc</td>\n",
              "      <td>Bachelors</td>\n",
              "      <td>13.0</td>\n",
              "      <td>Married-civ-spouse</td>\n",
              "      <td>Exec-managerial</td>\n",
              "      <td>Husband</td>\n",
              "      <td>White</td>\n",
              "      <td>Male</td>\n",
              "      <td>0.0</td>\n",
              "      <td>0.0</td>\n",
              "      <td>13.0</td>\n",
              "      <td>United-States</td>\n",
              "      <td>&lt;=50K</td>\n",
              "      <td>1.0</td>\n",
              "      <td>(0.0, 1.0, 0.0, 0.0, 0.0, 0.0)</td>\n",
              "    </tr>\n",
              "    <tr>\n",
              "      <th>2</th>\n",
              "      <td>38.0</td>\n",
              "      <td>Private</td>\n",
              "      <td>HS-grad</td>\n",
              "      <td>9.0</td>\n",
              "      <td>Divorced</td>\n",
              "      <td>Handlers-cleaners</td>\n",
              "      <td>Not-in-family</td>\n",
              "      <td>White</td>\n",
              "      <td>Male</td>\n",
              "      <td>0.0</td>\n",
              "      <td>0.0</td>\n",
              "      <td>40.0</td>\n",
              "      <td>United-States</td>\n",
              "      <td>&lt;=50K</td>\n",
              "      <td>0.0</td>\n",
              "      <td>(1.0, 0.0, 0.0, 0.0, 0.0, 0.0)</td>\n",
              "    </tr>\n",
              "    <tr>\n",
              "      <th>3</th>\n",
              "      <td>53.0</td>\n",
              "      <td>Private</td>\n",
              "      <td>11th</td>\n",
              "      <td>7.0</td>\n",
              "      <td>Married-civ-spouse</td>\n",
              "      <td>Handlers-cleaners</td>\n",
              "      <td>Husband</td>\n",
              "      <td>Black</td>\n",
              "      <td>Male</td>\n",
              "      <td>0.0</td>\n",
              "      <td>0.0</td>\n",
              "      <td>40.0</td>\n",
              "      <td>United-States</td>\n",
              "      <td>&lt;=50K</td>\n",
              "      <td>0.0</td>\n",
              "      <td>(1.0, 0.0, 0.0, 0.0, 0.0, 0.0)</td>\n",
              "    </tr>\n",
              "    <tr>\n",
              "      <th>4</th>\n",
              "      <td>28.0</td>\n",
              "      <td>Private</td>\n",
              "      <td>Bachelors</td>\n",
              "      <td>13.0</td>\n",
              "      <td>Married-civ-spouse</td>\n",
              "      <td>Prof-specialty</td>\n",
              "      <td>Wife</td>\n",
              "      <td>Black</td>\n",
              "      <td>Female</td>\n",
              "      <td>0.0</td>\n",
              "      <td>0.0</td>\n",
              "      <td>40.0</td>\n",
              "      <td>Cuba</td>\n",
              "      <td>&lt;=50K</td>\n",
              "      <td>0.0</td>\n",
              "      <td>(1.0, 0.0, 0.0, 0.0, 0.0, 0.0)</td>\n",
              "    </tr>\n",
              "  </tbody>\n",
              "</table>\n",
              "</div>"
            ],
            "text/plain": [
              "    Age         WorkClass  ... WorkClass_index               WorkClass_encoded\n",
              "0  39.0         State-gov  ...             3.0  (0.0, 0.0, 0.0, 1.0, 0.0, 0.0)\n",
              "1  50.0  Self-emp-not-inc  ...             1.0  (0.0, 1.0, 0.0, 0.0, 0.0, 0.0)\n",
              "2  38.0           Private  ...             0.0  (1.0, 0.0, 0.0, 0.0, 0.0, 0.0)\n",
              "3  53.0           Private  ...             0.0  (1.0, 0.0, 0.0, 0.0, 0.0, 0.0)\n",
              "4  28.0           Private  ...             0.0  (1.0, 0.0, 0.0, 0.0, 0.0, 0.0)\n",
              "\n",
              "[5 rows x 16 columns]"
            ]
          },
          "metadata": {},
          "execution_count": 27
        }
      ]
    },
    {
      "cell_type": "markdown",
      "metadata": {
        "id": "rYFEftPr3QD9"
      },
      "source": [
        "If you scroll to the right, you will observe once again that the transformations were appended to the column.\n",
        "\n",
        "To view the original and transformed features together, perform the operation:"
      ]
    },
    {
      "cell_type": "code",
      "metadata": {
        "colab": {
          "base_uri": "https://localhost:8080/",
          "height": 205
        },
        "id": "v9DFEVBBeFxS",
        "outputId": "9f8d7303-a3b1-4404-9251-dd6fd77161e3"
      },
      "source": [
        "encodedDF.select('WorkClass', 'WorkClass_index', 'WorkClass_encoded')\\\n",
        "         .toPandas()\\\n",
        "         .head()"
      ],
      "execution_count": null,
      "outputs": [
        {
          "output_type": "execute_result",
          "data": {
            "text/html": [
              "<div>\n",
              "<style scoped>\n",
              "    .dataframe tbody tr th:only-of-type {\n",
              "        vertical-align: middle;\n",
              "    }\n",
              "\n",
              "    .dataframe tbody tr th {\n",
              "        vertical-align: top;\n",
              "    }\n",
              "\n",
              "    .dataframe thead th {\n",
              "        text-align: right;\n",
              "    }\n",
              "</style>\n",
              "<table border=\"1\" class=\"dataframe\">\n",
              "  <thead>\n",
              "    <tr style=\"text-align: right;\">\n",
              "      <th></th>\n",
              "      <th>WorkClass</th>\n",
              "      <th>WorkClass_index</th>\n",
              "      <th>WorkClass_encoded</th>\n",
              "    </tr>\n",
              "  </thead>\n",
              "  <tbody>\n",
              "    <tr>\n",
              "      <th>0</th>\n",
              "      <td>State-gov</td>\n",
              "      <td>3.0</td>\n",
              "      <td>(0.0, 0.0, 0.0, 1.0, 0.0, 0.0)</td>\n",
              "    </tr>\n",
              "    <tr>\n",
              "      <th>1</th>\n",
              "      <td>Self-emp-not-inc</td>\n",
              "      <td>1.0</td>\n",
              "      <td>(0.0, 1.0, 0.0, 0.0, 0.0, 0.0)</td>\n",
              "    </tr>\n",
              "    <tr>\n",
              "      <th>2</th>\n",
              "      <td>Private</td>\n",
              "      <td>0.0</td>\n",
              "      <td>(1.0, 0.0, 0.0, 0.0, 0.0, 0.0)</td>\n",
              "    </tr>\n",
              "    <tr>\n",
              "      <th>3</th>\n",
              "      <td>Private</td>\n",
              "      <td>0.0</td>\n",
              "      <td>(1.0, 0.0, 0.0, 0.0, 0.0, 0.0)</td>\n",
              "    </tr>\n",
              "    <tr>\n",
              "      <th>4</th>\n",
              "      <td>Private</td>\n",
              "      <td>0.0</td>\n",
              "      <td>(1.0, 0.0, 0.0, 0.0, 0.0, 0.0)</td>\n",
              "    </tr>\n",
              "  </tbody>\n",
              "</table>\n",
              "</div>"
            ],
            "text/plain": [
              "          WorkClass  WorkClass_index               WorkClass_encoded\n",
              "0         State-gov              3.0  (0.0, 0.0, 0.0, 1.0, 0.0, 0.0)\n",
              "1  Self-emp-not-inc              1.0  (0.0, 1.0, 0.0, 0.0, 0.0, 0.0)\n",
              "2           Private              0.0  (1.0, 0.0, 0.0, 0.0, 0.0, 0.0)\n",
              "3           Private              0.0  (1.0, 0.0, 0.0, 0.0, 0.0, 0.0)\n",
              "4           Private              0.0  (1.0, 0.0, 0.0, 0.0, 0.0, 0.0)"
            ]
          },
          "metadata": {},
          "execution_count": 28
        }
      ]
    },
    {
      "cell_type": "markdown",
      "metadata": {
        "id": "1Gwp5QZseFxS"
      },
      "source": [
        "### Transform the entire dataset\n",
        "* So far we have only transformed a single column\n",
        "* We need to perform this transformation for every categorical and non-numeric column\n",
        "* This will be simplified by using a Pipeline (a feature of Spark ML)"
      ]
    },
    {
      "cell_type": "markdown",
      "metadata": {
        "id": "OZfv5DJreFxT"
      },
      "source": [
        "####  First, split the data into training and test sets"
      ]
    },
    {
      "cell_type": "code",
      "metadata": {
        "collapsed": true,
        "id": "JYy0TaJXeFxT"
      },
      "source": [
        "(trainingData, testData) = dataset.randomSplit([0.8,0.2])"
      ],
      "execution_count": null,
      "outputs": []
    },
    {
      "cell_type": "markdown",
      "metadata": {
        "id": "Krj57GrieFxT"
      },
      "source": [
        "#### Encode all the categorical fields in the dataset\n",
        "We begin by listing all the categorical fields"
      ]
    },
    {
      "cell_type": "code",
      "metadata": {
        "colab": {
          "base_uri": "https://localhost:8080/"
        },
        "id": "Dfof1-TVYH9r",
        "outputId": "7271e5b8-00b1-4906-a203-39b3108ed84a"
      },
      "source": [
        "categoricalFeatures = [item[0] for item in dataset.dtypes if \\\n",
        "                     item[1].startswith('string')]\n",
        "\n",
        "#Select all columns except \"Income\" (label) which is also a string\n",
        "categoricalFeatures = categoricalFeatures[:-1] \n",
        "\n",
        "print(categoricalFeatures)"
      ],
      "execution_count": null,
      "outputs": [
        {
          "output_type": "stream",
          "name": "stdout",
          "text": [
            "['WorkClass', 'Education', 'MaritalStatus', 'Occupation', 'Relationship', 'Race', 'Gender', 'NativeCountry']\n"
          ]
        }
      ]
    },
    {
      "cell_type": "markdown",
      "metadata": {
        "id": "TSt62Wv_eFxU"
      },
      "source": [
        "#### Create an array of StringIndexers to convert the categorical values to indices"
      ]
    },
    {
      "cell_type": "code",
      "metadata": {
        "collapsed": true,
        "id": "s8ddu4PpeFxU"
      },
      "source": [
        "indexers = [StringIndexer(\n",
        "    inputCol=column, \n",
        "    outputCol=column + '_index', \n",
        "    handleInvalid='keep') for column in categoricalFeatures]"
      ],
      "execution_count": null,
      "outputs": []
    },
    {
      "cell_type": "markdown",
      "metadata": {
        "id": "FJQQtc-eeFxV"
      },
      "source": [
        "#### Create an array of OneHotEncoders to encode the categorical values"
      ]
    },
    {
      "cell_type": "code",
      "metadata": {
        "collapsed": true,
        "id": "4dIREcVNeFxV"
      },
      "source": [
        "encoders = [OneHotEncoder(\n",
        "    inputCol=column + '_index', \n",
        "    outputCol= column + '_encoded') for column in categoricalFeatures]"
      ],
      "execution_count": null,
      "outputs": []
    },
    {
      "cell_type": "markdown",
      "metadata": {
        "id": "j1XoEVlVYUZT"
      },
      "source": [
        "#### Scale the numeric fields"
      ]
    },
    {
      "cell_type": "code",
      "metadata": {
        "colab": {
          "base_uri": "https://localhost:8080/"
        },
        "id": "r7H7_BXcYbJP",
        "outputId": "ffae507a-3266-44a9-a026-14c4601ac7f9"
      },
      "source": [
        "# Select the numeric features\n",
        "numFeatures = [item[0] for item in dataset.dtypes \\\n",
        "               if item[1].startswith('float')]\n",
        "\n",
        "print(numFeatures)"
      ],
      "execution_count": null,
      "outputs": [
        {
          "output_type": "stream",
          "name": "stdout",
          "text": [
            "['Age', 'EducationNum', 'CapitalGain', 'CapitalLoss', 'HoursPerWeek']\n"
          ]
        }
      ]
    },
    {
      "cell_type": "markdown",
      "metadata": {
        "id": "kd_wuD1wbS0Y"
      },
      "source": [
        "To scale numeric features, you will need to convert them to a single feature vector before applying a scaler."
      ]
    },
    {
      "cell_type": "code",
      "metadata": {
        "id": "vCKzjLpXantM"
      },
      "source": [
        "vectorFeatures = [VectorAssembler(inputCols=[col], \\\n",
        "                                  outputCol=col + \"_vec\") for col in numFeatures]\n",
        "\n",
        "numScaler = [MinMaxScaler(\n",
        "    inputCol= column + \"_vec\", \n",
        "    outputCol= column + '_scaled') for column in numFeatures]"
      ],
      "execution_count": null,
      "outputs": []
    },
    {
      "cell_type": "markdown",
      "metadata": {
        "id": "eKTBCbA5eFxV"
      },
      "source": [
        "#### Index the Label field"
      ]
    },
    {
      "cell_type": "markdown",
      "metadata": {
        "id": "NcqYaNEmzL71"
      },
      "source": [
        "As you saw earlier, the target variable has two classes: `>= can also see that the target variable is represented using strings. This column will need to be label encoded with 0 for the majority class and 1 for the minority class, as is the custom for binary imbalanced classification tasks."
      ]
    },
    {
      "cell_type": "code",
      "metadata": {
        "collapsed": true,
        "id": "yTc991a1eFxV"
      },
      "source": [
        "labelIndexer = [StringIndexer(\n",
        "    inputCol='Income', outputCol='Income_index')]"
      ],
      "execution_count": null,
      "outputs": []
    },
    {
      "cell_type": "markdown",
      "metadata": {
        "id": "tgOUKbZLeFxW"
      },
      "source": [
        "#### Create a pipeline\n",
        "The pipeline contains the array of StringIndexers and OneHotEncoders"
      ]
    },
    {
      "cell_type": "code",
      "metadata": {
        "collapsed": true,
        "id": "2okt7cd8eFxW"
      },
      "source": [
        "\n",
        "pipeline = Pipeline(stages=indexers + encoders + vectorFeatures \\\n",
        "                    + numScaler + labelIndexer)"
      ],
      "execution_count": null,
      "outputs": []
    },
    {
      "cell_type": "markdown",
      "metadata": {
        "id": "-Z_XQ4OWeFxW"
      },
      "source": [
        "#### View the result of the transformations performed by this pipeline\n",
        "This pipeline can transform our dataset into a format which can be used by our model"
      ]
    },
    {
      "cell_type": "code",
      "metadata": {
        "colab": {
          "base_uri": "https://localhost:8080/",
          "height": 398
        },
        "id": "zxgKt7egeFxW",
        "outputId": "cc397641-4faa-4d74-ed95-8b72507ed63f"
      },
      "source": [
        "transformedDF = pipeline.fit(trainingData).transform(trainingData)\n",
        "transformedDF.toPandas().tail()"
      ],
      "execution_count": null,
      "outputs": [
        {
          "output_type": "execute_result",
          "data": {
            "text/html": [
              "<div>\n",
              "<style scoped>\n",
              "    .dataframe tbody tr th:only-of-type {\n",
              "        vertical-align: middle;\n",
              "    }\n",
              "\n",
              "    .dataframe tbody tr th {\n",
              "        vertical-align: top;\n",
              "    }\n",
              "\n",
              "    .dataframe thead th {\n",
              "        text-align: right;\n",
              "    }\n",
              "</style>\n",
              "<table border=\"1\" class=\"dataframe\">\n",
              "  <thead>\n",
              "    <tr style=\"text-align: right;\">\n",
              "      <th></th>\n",
              "      <th>Age</th>\n",
              "      <th>WorkClass</th>\n",
              "      <th>Education</th>\n",
              "      <th>EducationNum</th>\n",
              "      <th>MaritalStatus</th>\n",
              "      <th>Occupation</th>\n",
              "      <th>Relationship</th>\n",
              "      <th>Race</th>\n",
              "      <th>Gender</th>\n",
              "      <th>CapitalGain</th>\n",
              "      <th>CapitalLoss</th>\n",
              "      <th>HoursPerWeek</th>\n",
              "      <th>NativeCountry</th>\n",
              "      <th>Income</th>\n",
              "      <th>WorkClass_index</th>\n",
              "      <th>Education_index</th>\n",
              "      <th>MaritalStatus_index</th>\n",
              "      <th>Occupation_index</th>\n",
              "      <th>Relationship_index</th>\n",
              "      <th>Race_index</th>\n",
              "      <th>Gender_index</th>\n",
              "      <th>NativeCountry_index</th>\n",
              "      <th>WorkClass_encoded</th>\n",
              "      <th>Education_encoded</th>\n",
              "      <th>MaritalStatus_encoded</th>\n",
              "      <th>Occupation_encoded</th>\n",
              "      <th>Relationship_encoded</th>\n",
              "      <th>Race_encoded</th>\n",
              "      <th>Gender_encoded</th>\n",
              "      <th>NativeCountry_encoded</th>\n",
              "      <th>Age_vec</th>\n",
              "      <th>EducationNum_vec</th>\n",
              "      <th>CapitalGain_vec</th>\n",
              "      <th>CapitalLoss_vec</th>\n",
              "      <th>HoursPerWeek_vec</th>\n",
              "      <th>Age_scaled</th>\n",
              "      <th>EducationNum_scaled</th>\n",
              "      <th>CapitalGain_scaled</th>\n",
              "      <th>CapitalLoss_scaled</th>\n",
              "      <th>HoursPerWeek_scaled</th>\n",
              "      <th>Income_index</th>\n",
              "    </tr>\n",
              "  </thead>\n",
              "  <tbody>\n",
              "    <tr>\n",
              "      <th>24183</th>\n",
              "      <td>90.0</td>\n",
              "      <td>Private</td>\n",
              "      <td>Some-college</td>\n",
              "      <td>10.0</td>\n",
              "      <td>Never-married</td>\n",
              "      <td>Other-service</td>\n",
              "      <td>Not-in-family</td>\n",
              "      <td>Asian-Pac-Islander</td>\n",
              "      <td>Male</td>\n",
              "      <td>0.0</td>\n",
              "      <td>0.0</td>\n",
              "      <td>35.0</td>\n",
              "      <td>United-States</td>\n",
              "      <td>&lt;=50K</td>\n",
              "      <td>0.0</td>\n",
              "      <td>1.0</td>\n",
              "      <td>1.0</td>\n",
              "      <td>5.0</td>\n",
              "      <td>1.0</td>\n",
              "      <td>2.0</td>\n",
              "      <td>0.0</td>\n",
              "      <td>0.0</td>\n",
              "      <td>(1.0, 0.0, 0.0, 0.0, 0.0, 0.0, 0.0)</td>\n",
              "      <td>(0.0, 1.0, 0.0, 0.0, 0.0, 0.0, 0.0, 0.0, 0.0, ...</td>\n",
              "      <td>(0.0, 1.0, 0.0, 0.0, 0.0, 0.0, 0.0)</td>\n",
              "      <td>(0.0, 0.0, 0.0, 0.0, 0.0, 1.0, 0.0, 0.0, 0.0, ...</td>\n",
              "      <td>(0.0, 1.0, 0.0, 0.0, 0.0, 0.0)</td>\n",
              "      <td>(0.0, 0.0, 1.0, 0.0, 0.0)</td>\n",
              "      <td>(1.0, 0.0)</td>\n",
              "      <td>(1.0, 0.0, 0.0, 0.0, 0.0, 0.0, 0.0, 0.0, 0.0, ...</td>\n",
              "      <td>[90.0]</td>\n",
              "      <td>[10.0]</td>\n",
              "      <td>[0.0]</td>\n",
              "      <td>[0.0]</td>\n",
              "      <td>[35.0]</td>\n",
              "      <td>[1.0]</td>\n",
              "      <td>[0.6]</td>\n",
              "      <td>[0.0]</td>\n",
              "      <td>[0.0]</td>\n",
              "      <td>[0.3469387755102041]</td>\n",
              "      <td>0.0</td>\n",
              "    </tr>\n",
              "    <tr>\n",
              "      <th>24184</th>\n",
              "      <td>90.0</td>\n",
              "      <td>Private</td>\n",
              "      <td>Some-college</td>\n",
              "      <td>10.0</td>\n",
              "      <td>Separated</td>\n",
              "      <td>Adm-clerical</td>\n",
              "      <td>Own-child</td>\n",
              "      <td>White</td>\n",
              "      <td>Female</td>\n",
              "      <td>0.0</td>\n",
              "      <td>0.0</td>\n",
              "      <td>40.0</td>\n",
              "      <td>Puerto-Rico</td>\n",
              "      <td>&lt;=50K</td>\n",
              "      <td>0.0</td>\n",
              "      <td>1.0</td>\n",
              "      <td>3.0</td>\n",
              "      <td>3.0</td>\n",
              "      <td>2.0</td>\n",
              "      <td>0.0</td>\n",
              "      <td>1.0</td>\n",
              "      <td>4.0</td>\n",
              "      <td>(1.0, 0.0, 0.0, 0.0, 0.0, 0.0, 0.0)</td>\n",
              "      <td>(0.0, 1.0, 0.0, 0.0, 0.0, 0.0, 0.0, 0.0, 0.0, ...</td>\n",
              "      <td>(0.0, 0.0, 0.0, 1.0, 0.0, 0.0, 0.0)</td>\n",
              "      <td>(0.0, 0.0, 0.0, 1.0, 0.0, 0.0, 0.0, 0.0, 0.0, ...</td>\n",
              "      <td>(0.0, 0.0, 1.0, 0.0, 0.0, 0.0)</td>\n",
              "      <td>(1.0, 0.0, 0.0, 0.0, 0.0)</td>\n",
              "      <td>(0.0, 1.0)</td>\n",
              "      <td>(0.0, 0.0, 0.0, 0.0, 1.0, 0.0, 0.0, 0.0, 0.0, ...</td>\n",
              "      <td>[90.0]</td>\n",
              "      <td>[10.0]</td>\n",
              "      <td>[0.0]</td>\n",
              "      <td>[0.0]</td>\n",
              "      <td>[40.0]</td>\n",
              "      <td>[1.0]</td>\n",
              "      <td>[0.6]</td>\n",
              "      <td>[0.0]</td>\n",
              "      <td>[0.0]</td>\n",
              "      <td>[0.39795918367346933]</td>\n",
              "      <td>0.0</td>\n",
              "    </tr>\n",
              "    <tr>\n",
              "      <th>24185</th>\n",
              "      <td>90.0</td>\n",
              "      <td>Self-emp-not-inc</td>\n",
              "      <td>Bachelors</td>\n",
              "      <td>13.0</td>\n",
              "      <td>Married-civ-spouse</td>\n",
              "      <td>Prof-specialty</td>\n",
              "      <td>Husband</td>\n",
              "      <td>White</td>\n",
              "      <td>Male</td>\n",
              "      <td>10566.0</td>\n",
              "      <td>0.0</td>\n",
              "      <td>50.0</td>\n",
              "      <td>United-States</td>\n",
              "      <td>&lt;=50K</td>\n",
              "      <td>1.0</td>\n",
              "      <td>2.0</td>\n",
              "      <td>0.0</td>\n",
              "      <td>1.0</td>\n",
              "      <td>0.0</td>\n",
              "      <td>0.0</td>\n",
              "      <td>0.0</td>\n",
              "      <td>0.0</td>\n",
              "      <td>(0.0, 1.0, 0.0, 0.0, 0.0, 0.0, 0.0)</td>\n",
              "      <td>(0.0, 0.0, 1.0, 0.0, 0.0, 0.0, 0.0, 0.0, 0.0, ...</td>\n",
              "      <td>(1.0, 0.0, 0.0, 0.0, 0.0, 0.0, 0.0)</td>\n",
              "      <td>(0.0, 1.0, 0.0, 0.0, 0.0, 0.0, 0.0, 0.0, 0.0, ...</td>\n",
              "      <td>(1.0, 0.0, 0.0, 0.0, 0.0, 0.0)</td>\n",
              "      <td>(1.0, 0.0, 0.0, 0.0, 0.0)</td>\n",
              "      <td>(1.0, 0.0)</td>\n",
              "      <td>(1.0, 0.0, 0.0, 0.0, 0.0, 0.0, 0.0, 0.0, 0.0, ...</td>\n",
              "      <td>[90.0]</td>\n",
              "      <td>[13.0]</td>\n",
              "      <td>[10566.0]</td>\n",
              "      <td>[0.0]</td>\n",
              "      <td>[50.0]</td>\n",
              "      <td>[1.0]</td>\n",
              "      <td>[0.8]</td>\n",
              "      <td>[0.1056610566105661]</td>\n",
              "      <td>[0.0]</td>\n",
              "      <td>[0.49999999999999994]</td>\n",
              "      <td>0.0</td>\n",
              "    </tr>\n",
              "    <tr>\n",
              "      <th>24186</th>\n",
              "      <td>90.0</td>\n",
              "      <td>Self-emp-not-inc</td>\n",
              "      <td>HS-grad</td>\n",
              "      <td>9.0</td>\n",
              "      <td>Never-married</td>\n",
              "      <td>Exec-managerial</td>\n",
              "      <td>Not-in-family</td>\n",
              "      <td>White</td>\n",
              "      <td>Male</td>\n",
              "      <td>2964.0</td>\n",
              "      <td>0.0</td>\n",
              "      <td>12.0</td>\n",
              "      <td>United-States</td>\n",
              "      <td>&lt;=50K</td>\n",
              "      <td>1.0</td>\n",
              "      <td>0.0</td>\n",
              "      <td>1.0</td>\n",
              "      <td>2.0</td>\n",
              "      <td>1.0</td>\n",
              "      <td>0.0</td>\n",
              "      <td>0.0</td>\n",
              "      <td>0.0</td>\n",
              "      <td>(0.0, 1.0, 0.0, 0.0, 0.0, 0.0, 0.0)</td>\n",
              "      <td>(1.0, 0.0, 0.0, 0.0, 0.0, 0.0, 0.0, 0.0, 0.0, ...</td>\n",
              "      <td>(0.0, 1.0, 0.0, 0.0, 0.0, 0.0, 0.0)</td>\n",
              "      <td>(0.0, 0.0, 1.0, 0.0, 0.0, 0.0, 0.0, 0.0, 0.0, ...</td>\n",
              "      <td>(0.0, 1.0, 0.0, 0.0, 0.0, 0.0)</td>\n",
              "      <td>(1.0, 0.0, 0.0, 0.0, 0.0)</td>\n",
              "      <td>(1.0, 0.0)</td>\n",
              "      <td>(1.0, 0.0, 0.0, 0.0, 0.0, 0.0, 0.0, 0.0, 0.0, ...</td>\n",
              "      <td>[90.0]</td>\n",
              "      <td>[9.0]</td>\n",
              "      <td>[2964.0]</td>\n",
              "      <td>[0.0]</td>\n",
              "      <td>[12.0]</td>\n",
              "      <td>[1.0]</td>\n",
              "      <td>[0.5333333333333333]</td>\n",
              "      <td>[0.02964029640296403]</td>\n",
              "      <td>[0.0]</td>\n",
              "      <td>[0.11224489795918366]</td>\n",
              "      <td>0.0</td>\n",
              "    </tr>\n",
              "    <tr>\n",
              "      <th>24187</th>\n",
              "      <td>90.0</td>\n",
              "      <td>Self-emp-not-inc</td>\n",
              "      <td>Some-college</td>\n",
              "      <td>10.0</td>\n",
              "      <td>Married-civ-spouse</td>\n",
              "      <td>Farming-fishing</td>\n",
              "      <td>Husband</td>\n",
              "      <td>White</td>\n",
              "      <td>Male</td>\n",
              "      <td>0.0</td>\n",
              "      <td>0.0</td>\n",
              "      <td>40.0</td>\n",
              "      <td>United-States</td>\n",
              "      <td>&lt;=50K</td>\n",
              "      <td>1.0</td>\n",
              "      <td>1.0</td>\n",
              "      <td>0.0</td>\n",
              "      <td>9.0</td>\n",
              "      <td>0.0</td>\n",
              "      <td>0.0</td>\n",
              "      <td>0.0</td>\n",
              "      <td>0.0</td>\n",
              "      <td>(0.0, 1.0, 0.0, 0.0, 0.0, 0.0, 0.0)</td>\n",
              "      <td>(0.0, 1.0, 0.0, 0.0, 0.0, 0.0, 0.0, 0.0, 0.0, ...</td>\n",
              "      <td>(1.0, 0.0, 0.0, 0.0, 0.0, 0.0, 0.0)</td>\n",
              "      <td>(0.0, 0.0, 0.0, 0.0, 0.0, 0.0, 0.0, 0.0, 0.0, ...</td>\n",
              "      <td>(1.0, 0.0, 0.0, 0.0, 0.0, 0.0)</td>\n",
              "      <td>(1.0, 0.0, 0.0, 0.0, 0.0)</td>\n",
              "      <td>(1.0, 0.0)</td>\n",
              "      <td>(1.0, 0.0, 0.0, 0.0, 0.0, 0.0, 0.0, 0.0, 0.0, ...</td>\n",
              "      <td>[90.0]</td>\n",
              "      <td>[10.0]</td>\n",
              "      <td>[0.0]</td>\n",
              "      <td>[0.0]</td>\n",
              "      <td>[40.0]</td>\n",
              "      <td>[1.0]</td>\n",
              "      <td>[0.6]</td>\n",
              "      <td>[0.0]</td>\n",
              "      <td>[0.0]</td>\n",
              "      <td>[0.39795918367346933]</td>\n",
              "      <td>0.0</td>\n",
              "    </tr>\n",
              "  </tbody>\n",
              "</table>\n",
              "</div>"
            ],
            "text/plain": [
              "        Age         WorkClass  ...    HoursPerWeek_scaled  Income_index\n",
              "24183  90.0           Private  ...   [0.3469387755102041]           0.0\n",
              "24184  90.0           Private  ...  [0.39795918367346933]           0.0\n",
              "24185  90.0  Self-emp-not-inc  ...  [0.49999999999999994]           0.0\n",
              "24186  90.0  Self-emp-not-inc  ...  [0.11224489795918366]           0.0\n",
              "24187  90.0  Self-emp-not-inc  ...  [0.39795918367346933]           0.0\n",
              "\n",
              "[5 rows x 41 columns]"
            ]
          },
          "metadata": {},
          "execution_count": 37
        }
      ]
    },
    {
      "cell_type": "markdown",
      "metadata": {
        "id": "SuBV6KBOeFxX"
      },
      "source": [
        "#### Select the required features\n",
        "At this point the dataset contains a lot of additional columns. We select the features needed by our model"
      ]
    },
    {
      "cell_type": "code",
      "metadata": {
        "collapsed": true,
        "id": "GzITd9EheFxX"
      },
      "source": [
        "requiredFeatures = [\n",
        "    'Age_scaled',\n",
        "    'EducationNum_scaled',\n",
        "    'CapitalGain_scaled',\n",
        "    'CapitalLoss_scaled',\n",
        "    'HoursPerWeek_scaled',\n",
        "    'WorkClass_encoded',\n",
        "    'Education_encoded',\n",
        "    'MaritalStatus_encoded',\n",
        "    'Occupation_encoded',\n",
        "    'Relationship_encoded',\n",
        "    'Race_encoded',\n",
        "    'Gender_encoded',\n",
        "    'NativeCountry_encoded'\n",
        "]"
      ],
      "execution_count": null,
      "outputs": []
    },
    {
      "cell_type": "markdown",
      "metadata": {
        "id": "8oMYaY8feFxX"
      },
      "source": [
        "#### VectorAssembler\n",
        "VectorAssembler is a transformer that combines a given list of columns into a single vector column. It is useful for combining raw features and features generated by different feature transformers into a single feature vector\n",
        "* We had previously written our own function to create such a vector"
      ]
    },
    {
      "cell_type": "code",
      "metadata": {
        "collapsed": true,
        "id": "PH18G5KGeFxY"
      },
      "source": [
        "assembler = VectorAssembler(inputCols=requiredFeatures, outputCol='features')"
      ],
      "execution_count": null,
      "outputs": []
    },
    {
      "cell_type": "code",
      "metadata": {
        "colab": {
          "base_uri": "https://localhost:8080/",
          "height": 398
        },
        "id": "b3blAUmxeFxY",
        "outputId": "6aa40ced-26c5-4ef6-e439-0f52cc0830c7"
      },
      "source": [
        "transformedDF = assembler.transform(transformedDF)\n",
        "transformedDF.toPandas().tail()"
      ],
      "execution_count": null,
      "outputs": [
        {
          "output_type": "execute_result",
          "data": {
            "text/html": [
              "<div>\n",
              "<style scoped>\n",
              "    .dataframe tbody tr th:only-of-type {\n",
              "        vertical-align: middle;\n",
              "    }\n",
              "\n",
              "    .dataframe tbody tr th {\n",
              "        vertical-align: top;\n",
              "    }\n",
              "\n",
              "    .dataframe thead th {\n",
              "        text-align: right;\n",
              "    }\n",
              "</style>\n",
              "<table border=\"1\" class=\"dataframe\">\n",
              "  <thead>\n",
              "    <tr style=\"text-align: right;\">\n",
              "      <th></th>\n",
              "      <th>Age</th>\n",
              "      <th>WorkClass</th>\n",
              "      <th>Education</th>\n",
              "      <th>EducationNum</th>\n",
              "      <th>MaritalStatus</th>\n",
              "      <th>Occupation</th>\n",
              "      <th>Relationship</th>\n",
              "      <th>Race</th>\n",
              "      <th>Gender</th>\n",
              "      <th>CapitalGain</th>\n",
              "      <th>CapitalLoss</th>\n",
              "      <th>HoursPerWeek</th>\n",
              "      <th>NativeCountry</th>\n",
              "      <th>Income</th>\n",
              "      <th>WorkClass_index</th>\n",
              "      <th>Education_index</th>\n",
              "      <th>MaritalStatus_index</th>\n",
              "      <th>Occupation_index</th>\n",
              "      <th>Relationship_index</th>\n",
              "      <th>Race_index</th>\n",
              "      <th>Gender_index</th>\n",
              "      <th>NativeCountry_index</th>\n",
              "      <th>WorkClass_encoded</th>\n",
              "      <th>Education_encoded</th>\n",
              "      <th>MaritalStatus_encoded</th>\n",
              "      <th>Occupation_encoded</th>\n",
              "      <th>Relationship_encoded</th>\n",
              "      <th>Race_encoded</th>\n",
              "      <th>Gender_encoded</th>\n",
              "      <th>NativeCountry_encoded</th>\n",
              "      <th>Age_vec</th>\n",
              "      <th>EducationNum_vec</th>\n",
              "      <th>CapitalGain_vec</th>\n",
              "      <th>CapitalLoss_vec</th>\n",
              "      <th>HoursPerWeek_vec</th>\n",
              "      <th>Age_scaled</th>\n",
              "      <th>EducationNum_scaled</th>\n",
              "      <th>CapitalGain_scaled</th>\n",
              "      <th>CapitalLoss_scaled</th>\n",
              "      <th>HoursPerWeek_scaled</th>\n",
              "      <th>Income_index</th>\n",
              "      <th>features</th>\n",
              "    </tr>\n",
              "  </thead>\n",
              "  <tbody>\n",
              "    <tr>\n",
              "      <th>24183</th>\n",
              "      <td>90.0</td>\n",
              "      <td>Private</td>\n",
              "      <td>Some-college</td>\n",
              "      <td>10.0</td>\n",
              "      <td>Never-married</td>\n",
              "      <td>Other-service</td>\n",
              "      <td>Not-in-family</td>\n",
              "      <td>Asian-Pac-Islander</td>\n",
              "      <td>Male</td>\n",
              "      <td>0.0</td>\n",
              "      <td>0.0</td>\n",
              "      <td>35.0</td>\n",
              "      <td>United-States</td>\n",
              "      <td>&lt;=50K</td>\n",
              "      <td>0.0</td>\n",
              "      <td>1.0</td>\n",
              "      <td>1.0</td>\n",
              "      <td>5.0</td>\n",
              "      <td>1.0</td>\n",
              "      <td>2.0</td>\n",
              "      <td>0.0</td>\n",
              "      <td>0.0</td>\n",
              "      <td>(1.0, 0.0, 0.0, 0.0, 0.0, 0.0, 0.0)</td>\n",
              "      <td>(0.0, 1.0, 0.0, 0.0, 0.0, 0.0, 0.0, 0.0, 0.0, ...</td>\n",
              "      <td>(0.0, 1.0, 0.0, 0.0, 0.0, 0.0, 0.0)</td>\n",
              "      <td>(0.0, 0.0, 0.0, 0.0, 0.0, 1.0, 0.0, 0.0, 0.0, ...</td>\n",
              "      <td>(0.0, 1.0, 0.0, 0.0, 0.0, 0.0)</td>\n",
              "      <td>(0.0, 0.0, 1.0, 0.0, 0.0)</td>\n",
              "      <td>(1.0, 0.0)</td>\n",
              "      <td>(1.0, 0.0, 0.0, 0.0, 0.0, 0.0, 0.0, 0.0, 0.0, ...</td>\n",
              "      <td>[90.0]</td>\n",
              "      <td>[10.0]</td>\n",
              "      <td>[0.0]</td>\n",
              "      <td>[0.0]</td>\n",
              "      <td>[35.0]</td>\n",
              "      <td>[1.0]</td>\n",
              "      <td>[0.6]</td>\n",
              "      <td>[0.0]</td>\n",
              "      <td>[0.0]</td>\n",
              "      <td>[0.3469387755102041]</td>\n",
              "      <td>0.0</td>\n",
              "      <td>(1.0, 0.6, 0.0, 0.0, 0.3469387755102041, 1.0, ...</td>\n",
              "    </tr>\n",
              "    <tr>\n",
              "      <th>24184</th>\n",
              "      <td>90.0</td>\n",
              "      <td>Private</td>\n",
              "      <td>Some-college</td>\n",
              "      <td>10.0</td>\n",
              "      <td>Separated</td>\n",
              "      <td>Adm-clerical</td>\n",
              "      <td>Own-child</td>\n",
              "      <td>White</td>\n",
              "      <td>Female</td>\n",
              "      <td>0.0</td>\n",
              "      <td>0.0</td>\n",
              "      <td>40.0</td>\n",
              "      <td>Puerto-Rico</td>\n",
              "      <td>&lt;=50K</td>\n",
              "      <td>0.0</td>\n",
              "      <td>1.0</td>\n",
              "      <td>3.0</td>\n",
              "      <td>3.0</td>\n",
              "      <td>2.0</td>\n",
              "      <td>0.0</td>\n",
              "      <td>1.0</td>\n",
              "      <td>4.0</td>\n",
              "      <td>(1.0, 0.0, 0.0, 0.0, 0.0, 0.0, 0.0)</td>\n",
              "      <td>(0.0, 1.0, 0.0, 0.0, 0.0, 0.0, 0.0, 0.0, 0.0, ...</td>\n",
              "      <td>(0.0, 0.0, 0.0, 1.0, 0.0, 0.0, 0.0)</td>\n",
              "      <td>(0.0, 0.0, 0.0, 1.0, 0.0, 0.0, 0.0, 0.0, 0.0, ...</td>\n",
              "      <td>(0.0, 0.0, 1.0, 0.0, 0.0, 0.0)</td>\n",
              "      <td>(1.0, 0.0, 0.0, 0.0, 0.0)</td>\n",
              "      <td>(0.0, 1.0)</td>\n",
              "      <td>(0.0, 0.0, 0.0, 0.0, 1.0, 0.0, 0.0, 0.0, 0.0, ...</td>\n",
              "      <td>[90.0]</td>\n",
              "      <td>[10.0]</td>\n",
              "      <td>[0.0]</td>\n",
              "      <td>[0.0]</td>\n",
              "      <td>[40.0]</td>\n",
              "      <td>[1.0]</td>\n",
              "      <td>[0.6]</td>\n",
              "      <td>[0.0]</td>\n",
              "      <td>[0.0]</td>\n",
              "      <td>[0.39795918367346933]</td>\n",
              "      <td>0.0</td>\n",
              "      <td>(1.0, 0.6, 0.0, 0.0, 0.39795918367346933, 1.0,...</td>\n",
              "    </tr>\n",
              "    <tr>\n",
              "      <th>24185</th>\n",
              "      <td>90.0</td>\n",
              "      <td>Self-emp-not-inc</td>\n",
              "      <td>Bachelors</td>\n",
              "      <td>13.0</td>\n",
              "      <td>Married-civ-spouse</td>\n",
              "      <td>Prof-specialty</td>\n",
              "      <td>Husband</td>\n",
              "      <td>White</td>\n",
              "      <td>Male</td>\n",
              "      <td>10566.0</td>\n",
              "      <td>0.0</td>\n",
              "      <td>50.0</td>\n",
              "      <td>United-States</td>\n",
              "      <td>&lt;=50K</td>\n",
              "      <td>1.0</td>\n",
              "      <td>2.0</td>\n",
              "      <td>0.0</td>\n",
              "      <td>1.0</td>\n",
              "      <td>0.0</td>\n",
              "      <td>0.0</td>\n",
              "      <td>0.0</td>\n",
              "      <td>0.0</td>\n",
              "      <td>(0.0, 1.0, 0.0, 0.0, 0.0, 0.0, 0.0)</td>\n",
              "      <td>(0.0, 0.0, 1.0, 0.0, 0.0, 0.0, 0.0, 0.0, 0.0, ...</td>\n",
              "      <td>(1.0, 0.0, 0.0, 0.0, 0.0, 0.0, 0.0)</td>\n",
              "      <td>(0.0, 1.0, 0.0, 0.0, 0.0, 0.0, 0.0, 0.0, 0.0, ...</td>\n",
              "      <td>(1.0, 0.0, 0.0, 0.0, 0.0, 0.0)</td>\n",
              "      <td>(1.0, 0.0, 0.0, 0.0, 0.0)</td>\n",
              "      <td>(1.0, 0.0)</td>\n",
              "      <td>(1.0, 0.0, 0.0, 0.0, 0.0, 0.0, 0.0, 0.0, 0.0, ...</td>\n",
              "      <td>[90.0]</td>\n",
              "      <td>[13.0]</td>\n",
              "      <td>[10566.0]</td>\n",
              "      <td>[0.0]</td>\n",
              "      <td>[50.0]</td>\n",
              "      <td>[1.0]</td>\n",
              "      <td>[0.8]</td>\n",
              "      <td>[0.1056610566105661]</td>\n",
              "      <td>[0.0]</td>\n",
              "      <td>[0.49999999999999994]</td>\n",
              "      <td>0.0</td>\n",
              "      <td>(1.0, 0.8, 0.1056610566105661, 0.0, 0.49999999...</td>\n",
              "    </tr>\n",
              "    <tr>\n",
              "      <th>24186</th>\n",
              "      <td>90.0</td>\n",
              "      <td>Self-emp-not-inc</td>\n",
              "      <td>HS-grad</td>\n",
              "      <td>9.0</td>\n",
              "      <td>Never-married</td>\n",
              "      <td>Exec-managerial</td>\n",
              "      <td>Not-in-family</td>\n",
              "      <td>White</td>\n",
              "      <td>Male</td>\n",
              "      <td>2964.0</td>\n",
              "      <td>0.0</td>\n",
              "      <td>12.0</td>\n",
              "      <td>United-States</td>\n",
              "      <td>&lt;=50K</td>\n",
              "      <td>1.0</td>\n",
              "      <td>0.0</td>\n",
              "      <td>1.0</td>\n",
              "      <td>2.0</td>\n",
              "      <td>1.0</td>\n",
              "      <td>0.0</td>\n",
              "      <td>0.0</td>\n",
              "      <td>0.0</td>\n",
              "      <td>(0.0, 1.0, 0.0, 0.0, 0.0, 0.0, 0.0)</td>\n",
              "      <td>(1.0, 0.0, 0.0, 0.0, 0.0, 0.0, 0.0, 0.0, 0.0, ...</td>\n",
              "      <td>(0.0, 1.0, 0.0, 0.0, 0.0, 0.0, 0.0)</td>\n",
              "      <td>(0.0, 0.0, 1.0, 0.0, 0.0, 0.0, 0.0, 0.0, 0.0, ...</td>\n",
              "      <td>(0.0, 1.0, 0.0, 0.0, 0.0, 0.0)</td>\n",
              "      <td>(1.0, 0.0, 0.0, 0.0, 0.0)</td>\n",
              "      <td>(1.0, 0.0)</td>\n",
              "      <td>(1.0, 0.0, 0.0, 0.0, 0.0, 0.0, 0.0, 0.0, 0.0, ...</td>\n",
              "      <td>[90.0]</td>\n",
              "      <td>[9.0]</td>\n",
              "      <td>[2964.0]</td>\n",
              "      <td>[0.0]</td>\n",
              "      <td>[12.0]</td>\n",
              "      <td>[1.0]</td>\n",
              "      <td>[0.5333333333333333]</td>\n",
              "      <td>[0.02964029640296403]</td>\n",
              "      <td>[0.0]</td>\n",
              "      <td>[0.11224489795918366]</td>\n",
              "      <td>0.0</td>\n",
              "      <td>(1.0, 0.5333333333333333, 0.02964029640296403,...</td>\n",
              "    </tr>\n",
              "    <tr>\n",
              "      <th>24187</th>\n",
              "      <td>90.0</td>\n",
              "      <td>Self-emp-not-inc</td>\n",
              "      <td>Some-college</td>\n",
              "      <td>10.0</td>\n",
              "      <td>Married-civ-spouse</td>\n",
              "      <td>Farming-fishing</td>\n",
              "      <td>Husband</td>\n",
              "      <td>White</td>\n",
              "      <td>Male</td>\n",
              "      <td>0.0</td>\n",
              "      <td>0.0</td>\n",
              "      <td>40.0</td>\n",
              "      <td>United-States</td>\n",
              "      <td>&lt;=50K</td>\n",
              "      <td>1.0</td>\n",
              "      <td>1.0</td>\n",
              "      <td>0.0</td>\n",
              "      <td>9.0</td>\n",
              "      <td>0.0</td>\n",
              "      <td>0.0</td>\n",
              "      <td>0.0</td>\n",
              "      <td>0.0</td>\n",
              "      <td>(0.0, 1.0, 0.0, 0.0, 0.0, 0.0, 0.0)</td>\n",
              "      <td>(0.0, 1.0, 0.0, 0.0, 0.0, 0.0, 0.0, 0.0, 0.0, ...</td>\n",
              "      <td>(1.0, 0.0, 0.0, 0.0, 0.0, 0.0, 0.0)</td>\n",
              "      <td>(0.0, 0.0, 0.0, 0.0, 0.0, 0.0, 0.0, 0.0, 0.0, ...</td>\n",
              "      <td>(1.0, 0.0, 0.0, 0.0, 0.0, 0.0)</td>\n",
              "      <td>(1.0, 0.0, 0.0, 0.0, 0.0)</td>\n",
              "      <td>(1.0, 0.0)</td>\n",
              "      <td>(1.0, 0.0, 0.0, 0.0, 0.0, 0.0, 0.0, 0.0, 0.0, ...</td>\n",
              "      <td>[90.0]</td>\n",
              "      <td>[10.0]</td>\n",
              "      <td>[0.0]</td>\n",
              "      <td>[0.0]</td>\n",
              "      <td>[40.0]</td>\n",
              "      <td>[1.0]</td>\n",
              "      <td>[0.6]</td>\n",
              "      <td>[0.0]</td>\n",
              "      <td>[0.0]</td>\n",
              "      <td>[0.39795918367346933]</td>\n",
              "      <td>0.0</td>\n",
              "      <td>(1.0, 0.6, 0.0, 0.0, 0.39795918367346933, 0.0,...</td>\n",
              "    </tr>\n",
              "  </tbody>\n",
              "</table>\n",
              "</div>"
            ],
            "text/plain": [
              "        Age  ...                                           features\n",
              "24183  90.0  ...  (1.0, 0.6, 0.0, 0.0, 0.3469387755102041, 1.0, ...\n",
              "24184  90.0  ...  (1.0, 0.6, 0.0, 0.0, 0.39795918367346933, 1.0,...\n",
              "24185  90.0  ...  (1.0, 0.8, 0.1056610566105661, 0.0, 0.49999999...\n",
              "24186  90.0  ...  (1.0, 0.5333333333333333, 0.02964029640296403,...\n",
              "24187  90.0  ...  (1.0, 0.6, 0.0, 0.0, 0.39795918367346933, 0.0,...\n",
              "\n",
              "[5 rows x 42 columns]"
            ]
          },
          "metadata": {},
          "execution_count": 40
        }
      ]
    },
    {
      "cell_type": "code",
      "metadata": {
        "colab": {
          "base_uri": "https://localhost:8080/",
          "height": 205
        },
        "id": "S3_S-pSHeFxZ",
        "outputId": "860d44fc-abf2-4e0c-98eb-08bdadc237b9"
      },
      "source": [
        "transformedDF.select('features').toPandas().tail()"
      ],
      "execution_count": null,
      "outputs": [
        {
          "output_type": "execute_result",
          "data": {
            "text/html": [
              "<div>\n",
              "<style scoped>\n",
              "    .dataframe tbody tr th:only-of-type {\n",
              "        vertical-align: middle;\n",
              "    }\n",
              "\n",
              "    .dataframe tbody tr th {\n",
              "        vertical-align: top;\n",
              "    }\n",
              "\n",
              "    .dataframe thead th {\n",
              "        text-align: right;\n",
              "    }\n",
              "</style>\n",
              "<table border=\"1\" class=\"dataframe\">\n",
              "  <thead>\n",
              "    <tr style=\"text-align: right;\">\n",
              "      <th></th>\n",
              "      <th>features</th>\n",
              "    </tr>\n",
              "  </thead>\n",
              "  <tbody>\n",
              "    <tr>\n",
              "      <th>24183</th>\n",
              "      <td>(1.0, 0.6, 0.0, 0.0, 0.3469387755102041, 1.0, ...</td>\n",
              "    </tr>\n",
              "    <tr>\n",
              "      <th>24184</th>\n",
              "      <td>(1.0, 0.6, 0.0, 0.0, 0.39795918367346933, 1.0,...</td>\n",
              "    </tr>\n",
              "    <tr>\n",
              "      <th>24185</th>\n",
              "      <td>(1.0, 0.8, 0.1056610566105661, 0.0, 0.49999999...</td>\n",
              "    </tr>\n",
              "    <tr>\n",
              "      <th>24186</th>\n",
              "      <td>(1.0, 0.5333333333333333, 0.02964029640296403,...</td>\n",
              "    </tr>\n",
              "    <tr>\n",
              "      <th>24187</th>\n",
              "      <td>(1.0, 0.6, 0.0, 0.0, 0.39795918367346933, 0.0,...</td>\n",
              "    </tr>\n",
              "  </tbody>\n",
              "</table>\n",
              "</div>"
            ],
            "text/plain": [
              "                                                features\n",
              "24183  (1.0, 0.6, 0.0, 0.0, 0.3469387755102041, 1.0, ...\n",
              "24184  (1.0, 0.6, 0.0, 0.0, 0.39795918367346933, 1.0,...\n",
              "24185  (1.0, 0.8, 0.1056610566105661, 0.0, 0.49999999...\n",
              "24186  (1.0, 0.5333333333333333, 0.02964029640296403,...\n",
              "24187  (1.0, 0.6, 0.0, 0.0, 0.39795918367346933, 0.0,..."
            ]
          },
          "metadata": {},
          "execution_count": 41
        }
      ]
    },
    {
      "cell_type": "markdown",
      "metadata": {
        "id": "-m8tiNOTGsdc"
      },
      "source": [
        "## Model Selection"
      ]
    },
    {
      "cell_type": "markdown",
      "metadata": {
        "id": "r7TSIl97HFcm"
      },
      "source": [
        "- [Binomial logistic regression](https://spark.apache.org/docs/latest/ml-classification-regression.html#binomial-logistic-regression) --> For predicting a binary class problem.\n",
        "\n",
        " - Assumption for selecting this estimator: To establish a baseline performance for the classifiers on the dataset.\n",
        " - Learn more about LR in the [docs](https://spark.apache.org/docs/latest/api/python/reference/api/pyspark.ml.classification.LogisticRegression.html).\n",
        "\n",
        "- [Decision tree classifier](https://spark.apache.org/docs/latest/ml-classification-regression.html#decision-tree-classifier): Decision trees are great for giving some boost in performance but also risk overfitting and are mostly unstable for production usage.\n",
        "\n",
        " - Learn more about this estimator in the [docs](https://spark.apache.org/docs/latest/api/python/reference/api/pyspark.ml.classification.DecisionTreeClassifier.html#pyspark.ml.classification.DecisionTreeClassifier).\n",
        "\n",
        "\n",
        "- [Random forest classifier](https://spark.apache.org/docs/latest/ml-classification-regression.html#random-forest-classifier): To curb any potential for overfitting on the dataset, and it's a really good candidate for an optimal production model.\n",
        " - If we deploy this to production, it can be able to handle missing values from new data it needs to predict on.\n",
        " - Learn more about this estimator in the [docs](https://spark.apache.org/docs/3.1.1/api/python/reference/api/pyspark.ml.classification.RandomForestClassifier.html).\n",
        "\n",
        "\n",
        "- (Optional) [Gradient-boosted tree classifier](https://spark.apache.org/docs/latest/ml-classification-regression.html#gradient-boosted-tree-classifier): An alternative to random forest, if it performs better.\n",
        " - Learn more about this estimator in the [docs](https://spark.apache.org/docs/latest/api/python/reference/api/pyspark.ml.classification.GBTClassifier.html).\n",
        "\n"
      ]
    },
    {
      "cell_type": "code",
      "metadata": {
        "id": "KtF7QwDoGyZm"
      },
      "source": [
        "# lr = LogisticRegression(labelCol='Income_index', featuresCol='features')\n",
        "\n",
        "# dt = DecisionTreeClassifier(labelCol=\"Income_index\", \\\n",
        "#                             featuresCol=\"features\")\n",
        "\n",
        "# rf = RandomForestClassifier(labelCol='Income_index', \n",
        "#                             featuresCol='features')\n",
        "\n",
        "gbt = GBTClassifier(labelCol=\"Income_index\", featuresCol=\"features\")\n"
      ],
      "execution_count": null,
      "outputs": []
    },
    {
      "cell_type": "code",
      "metadata": {
        "id": "UsCTLNNjCTIq"
      },
      "source": [
        "# pipeline_lr = Pipeline(\n",
        "#     stages=indexers + encoders + vectorFeatures + numScaler + labelIndexer \\\n",
        "#      + [assembler, lr]\n",
        "# )\n",
        "\n",
        "# pipeline_dt = Pipeline(\n",
        "#     stages=indexers + encoders + vectorFeatures + numScaler + labelIndexer \\\n",
        "#      + [assembler, dt]\n",
        "# )\n",
        "\n",
        "# pipeline_rf = Pipeline(\n",
        "#     stages=indexers + encoders + vectorFeatures + numScaler + labelIndexer \\\n",
        "#      + [assembler, rf]\n",
        "# )\n",
        "\n",
        "pipeline_gbt = Pipeline(\n",
        "    stages=indexers + encoders + vectorFeatures + numScaler + labelIndexer \\\n",
        "     + [assembler, gbt]\n",
        ")"
      ],
      "execution_count": null,
      "outputs": []
    },
    {
      "cell_type": "markdown",
      "metadata": {
        "id": "6q8KGN9ODhDa"
      },
      "source": [
        "I could have easily defined the entire parameter grid for all esimators in one builder, but that would be quite compute intensive and may take a lot of time to run (on an instance like that of G Colab), so I will try building and using them one-by-one..."
      ]
    },
    {
      "cell_type": "code",
      "metadata": {
        "id": "zUZaPVV484yP"
      },
      "source": [
        "\n",
        "# paramGrid_lr = ParamGridBuilder().addGrid(\n",
        "#     lr.maxIter, [10,50,100]).addGrid(\n",
        "#     lr.regParam, [0.1, 0.3, 1.0]).addGrid(\n",
        "#     lr.elasticNetParam, [0.0, 0.7, 1.0]).addGrid(\n",
        "#     lr.threshold, [0.5, 0.75]\n",
        "#     ).build()\n",
        "\n",
        "\n",
        "# paramGrid_dt = ParamGridBuilder().addGrid(\n",
        "#     dt.maxDepth, [5, 10, 15, 20]).build()\n",
        "\n",
        "\n",
        "# paramGrid_rf = ParamGridBuilder().addGrid(\n",
        "#     rf.maxDepth, [5, 10, 15]).addGrid(\n",
        "#     rf.numTrees, [50, 100, 150]).build()\n",
        "\n",
        "\n",
        "paramGrid_gbt = ParamGridBuilder().addGrid(\n",
        "    gbt.maxDepth, [5, 10, 15]).addGrid(\n",
        "    gbt.maxIter, [20, 25, 50]).build()"
      ],
      "execution_count": null,
      "outputs": []
    },
    {
      "cell_type": "code",
      "metadata": {
        "id": "fmL6wyE6B70r"
      },
      "source": [
        "evaluator = MulticlassClassificationEvaluator(\n",
        "    labelCol='Income_index', \n",
        "    predictionCol='prediction', \n",
        "    metricName='accuracy')"
      ],
      "execution_count": null,
      "outputs": []
    },
    {
      "cell_type": "markdown",
      "metadata": {
        "id": "2RAi7wD68HOG"
      },
      "source": [
        "LEARN HOW TO SAVE AND LOAD SPARK ML PIPELINES LOCALLY [HERE](https://stackoverflow.com/questions/44981407/pyspark-ml-how-to-save-pipeline-and-randomforestclassificationmodel)."
      ]
    },
    {
      "cell_type": "markdown",
      "metadata": {
        "id": "OR9DOhyhCAM2"
      },
      "source": [
        "#### Define the CrossValidator\n",
        "This is used to put all the pieces together\n",
        "* <b>estimator: </b>Can be a standalone estimator or a pipeline with an estimator at the end. We use our pipeline\n",
        "* <b>estimatorParamMaps: </b>We add our paramGrid in order to build models with different combinations of the parameters\n",
        "* <b>evaluator: </b>To evaluate each model, we specify our evaluator"
      ]
    },
    {
      "cell_type": "code",
      "metadata": {
        "id": "_Rfk_-CpB8n3"
      },
      "source": [
        "\n",
        "# crossval_lr = CrossValidator(estimator=pipeline_lr,\n",
        "#                           estimatorParamMaps=paramGrid_lr,\n",
        "#                           evaluator=evaluator,\n",
        "#                           numFolds=3)\n",
        "\n",
        "# crossval_dt = CrossValidator(estimator=pipeline_dt,\n",
        "#                           estimatorParamMaps=paramGrid_dt,\n",
        "#                           evaluator=evaluator,\n",
        "#                           numFolds=3)\n",
        "\n",
        "# crossval_rf = CrossValidator(estimator=pipeline_rf,\n",
        "#                           estimatorParamMaps=paramGrid_rf,\n",
        "#                           evaluator=evaluator,\n",
        "#                           numFolds=3)\n",
        "\n",
        "crossval_gbt = CrossValidator(estimator=pipeline_gbt,\n",
        "                          estimatorParamMaps=paramGrid_gbt,\n",
        "                          evaluator=evaluator,\n",
        "                          numFolds=3)"
      ],
      "execution_count": null,
      "outputs": []
    },
    {
      "cell_type": "code",
      "metadata": {
        "id": "rlkNwMDvIxul"
      },
      "source": [
        "# model_lr = crossval_lr.fit(trainingData)\n",
        "\n",
        "# model_dt = crossval_dt.fit(trainingData)\n",
        "\n",
        "# model_rf = crossval_rf.fit(trainingData)\n",
        "\n",
        "model_gbt = crossval_gbt.fit(trainingData)"
      ],
      "execution_count": null,
      "outputs": []
    },
    {
      "cell_type": "code",
      "metadata": {
        "colab": {
          "base_uri": "https://localhost:8080/"
        },
        "id": "zuxwcUr2NpPW",
        "outputId": "047a4466-2493-4c50-a4c0-2a3dc5940b32"
      },
      "source": [
        "# lrModel = model_lr.bestModel.stages[-1]\n",
        "# lrModel\n",
        "\n",
        "# dtModel = model_dt.bestModel.stages[-1]\n",
        "# dtModel\n",
        "\n",
        "# rfModel = model_rf.bestModel.stages[-1]\n",
        "# rfModel\n",
        "\n",
        "gbtModel = model_gbt.bestModel.stages[-1]\n",
        "gbtModel"
      ],
      "execution_count": null,
      "outputs": [
        {
          "output_type": "execute_result",
          "data": {
            "text/plain": [
              "GBTClassificationModel: uid = GBTClassifier_85891fc37465, numTrees=50, numClasses=2, numFeatures=103"
            ]
          },
          "metadata": {},
          "execution_count": 92
        }
      ]
    },
    {
      "cell_type": "code",
      "metadata": {
        "colab": {
          "base_uri": "https://localhost:8080/",
          "height": 398
        },
        "id": "tDa2qcdSN9Xc",
        "outputId": "e0b67a29-3a5c-44f3-ff34-1280ee3ba78d"
      },
      "source": [
        "predictions = model_gbt.transform(testData)\n",
        "predictionsDF = predictions.toPandas()\n",
        "predictionsDF.head()"
      ],
      "execution_count": null,
      "outputs": [
        {
          "output_type": "execute_result",
          "data": {
            "text/html": [
              "<div>\n",
              "<style scoped>\n",
              "    .dataframe tbody tr th:only-of-type {\n",
              "        vertical-align: middle;\n",
              "    }\n",
              "\n",
              "    .dataframe tbody tr th {\n",
              "        vertical-align: top;\n",
              "    }\n",
              "\n",
              "    .dataframe thead th {\n",
              "        text-align: right;\n",
              "    }\n",
              "</style>\n",
              "<table border=\"1\" class=\"dataframe\">\n",
              "  <thead>\n",
              "    <tr style=\"text-align: right;\">\n",
              "      <th></th>\n",
              "      <th>Age</th>\n",
              "      <th>WorkClass</th>\n",
              "      <th>Education</th>\n",
              "      <th>EducationNum</th>\n",
              "      <th>MaritalStatus</th>\n",
              "      <th>Occupation</th>\n",
              "      <th>Relationship</th>\n",
              "      <th>Race</th>\n",
              "      <th>Gender</th>\n",
              "      <th>CapitalGain</th>\n",
              "      <th>CapitalLoss</th>\n",
              "      <th>HoursPerWeek</th>\n",
              "      <th>NativeCountry</th>\n",
              "      <th>Income</th>\n",
              "      <th>WorkClass_index</th>\n",
              "      <th>Education_index</th>\n",
              "      <th>MaritalStatus_index</th>\n",
              "      <th>Occupation_index</th>\n",
              "      <th>Relationship_index</th>\n",
              "      <th>Race_index</th>\n",
              "      <th>Gender_index</th>\n",
              "      <th>NativeCountry_index</th>\n",
              "      <th>WorkClass_encoded</th>\n",
              "      <th>Education_encoded</th>\n",
              "      <th>MaritalStatus_encoded</th>\n",
              "      <th>Occupation_encoded</th>\n",
              "      <th>Relationship_encoded</th>\n",
              "      <th>Race_encoded</th>\n",
              "      <th>Gender_encoded</th>\n",
              "      <th>NativeCountry_encoded</th>\n",
              "      <th>Age_vec</th>\n",
              "      <th>EducationNum_vec</th>\n",
              "      <th>CapitalGain_vec</th>\n",
              "      <th>CapitalLoss_vec</th>\n",
              "      <th>HoursPerWeek_vec</th>\n",
              "      <th>Age_scaled</th>\n",
              "      <th>EducationNum_scaled</th>\n",
              "      <th>CapitalGain_scaled</th>\n",
              "      <th>CapitalLoss_scaled</th>\n",
              "      <th>HoursPerWeek_scaled</th>\n",
              "      <th>Income_index</th>\n",
              "      <th>features</th>\n",
              "      <th>rawPrediction</th>\n",
              "      <th>probability</th>\n",
              "      <th>prediction</th>\n",
              "    </tr>\n",
              "  </thead>\n",
              "  <tbody>\n",
              "    <tr>\n",
              "      <th>0</th>\n",
              "      <td>17.0</td>\n",
              "      <td>Local-gov</td>\n",
              "      <td>11th</td>\n",
              "      <td>7.0</td>\n",
              "      <td>Never-married</td>\n",
              "      <td>Prof-specialty</td>\n",
              "      <td>Own-child</td>\n",
              "      <td>Black</td>\n",
              "      <td>Male</td>\n",
              "      <td>0.0</td>\n",
              "      <td>0.0</td>\n",
              "      <td>15.0</td>\n",
              "      <td>United-States</td>\n",
              "      <td>&lt;=50K</td>\n",
              "      <td>2.0</td>\n",
              "      <td>5.0</td>\n",
              "      <td>1.0</td>\n",
              "      <td>1.0</td>\n",
              "      <td>2.0</td>\n",
              "      <td>1.0</td>\n",
              "      <td>0.0</td>\n",
              "      <td>0.0</td>\n",
              "      <td>(0.0, 0.0, 1.0, 0.0, 0.0, 0.0, 0.0)</td>\n",
              "      <td>(0.0, 0.0, 0.0, 0.0, 0.0, 1.0, 0.0, 0.0, 0.0, ...</td>\n",
              "      <td>(0.0, 1.0, 0.0, 0.0, 0.0, 0.0, 0.0)</td>\n",
              "      <td>(0.0, 1.0, 0.0, 0.0, 0.0, 0.0, 0.0, 0.0, 0.0, ...</td>\n",
              "      <td>(0.0, 0.0, 1.0, 0.0, 0.0, 0.0)</td>\n",
              "      <td>(0.0, 1.0, 0.0, 0.0, 0.0)</td>\n",
              "      <td>(1.0, 0.0)</td>\n",
              "      <td>(1.0, 0.0, 0.0, 0.0, 0.0, 0.0, 0.0, 0.0, 0.0, ...</td>\n",
              "      <td>[17.0]</td>\n",
              "      <td>[7.0]</td>\n",
              "      <td>[0.0]</td>\n",
              "      <td>[0.0]</td>\n",
              "      <td>[15.0]</td>\n",
              "      <td>[0.0]</td>\n",
              "      <td>[0.4]</td>\n",
              "      <td>[0.0]</td>\n",
              "      <td>[0.0]</td>\n",
              "      <td>[0.14285714285714285]</td>\n",
              "      <td>0.0</td>\n",
              "      <td>(0.0, 0.4, 0.0, 0.0, 0.14285714285714285, 0.0,...</td>\n",
              "      <td>[1.8493557113817651, -1.8493557113817651]</td>\n",
              "      <td>[0.9758426205381941, 0.02415737946180585]</td>\n",
              "      <td>0.0</td>\n",
              "    </tr>\n",
              "    <tr>\n",
              "      <th>1</th>\n",
              "      <td>17.0</td>\n",
              "      <td>Local-gov</td>\n",
              "      <td>12th</td>\n",
              "      <td>8.0</td>\n",
              "      <td>Never-married</td>\n",
              "      <td>Adm-clerical</td>\n",
              "      <td>Own-child</td>\n",
              "      <td>White</td>\n",
              "      <td>Female</td>\n",
              "      <td>0.0</td>\n",
              "      <td>0.0</td>\n",
              "      <td>12.0</td>\n",
              "      <td>United-States</td>\n",
              "      <td>&lt;=50K</td>\n",
              "      <td>2.0</td>\n",
              "      <td>11.0</td>\n",
              "      <td>1.0</td>\n",
              "      <td>3.0</td>\n",
              "      <td>2.0</td>\n",
              "      <td>0.0</td>\n",
              "      <td>1.0</td>\n",
              "      <td>0.0</td>\n",
              "      <td>(0.0, 0.0, 1.0, 0.0, 0.0, 0.0, 0.0)</td>\n",
              "      <td>(0.0, 0.0, 0.0, 0.0, 0.0, 0.0, 0.0, 0.0, 0.0, ...</td>\n",
              "      <td>(0.0, 1.0, 0.0, 0.0, 0.0, 0.0, 0.0)</td>\n",
              "      <td>(0.0, 0.0, 0.0, 1.0, 0.0, 0.0, 0.0, 0.0, 0.0, ...</td>\n",
              "      <td>(0.0, 0.0, 1.0, 0.0, 0.0, 0.0)</td>\n",
              "      <td>(1.0, 0.0, 0.0, 0.0, 0.0)</td>\n",
              "      <td>(0.0, 1.0)</td>\n",
              "      <td>(1.0, 0.0, 0.0, 0.0, 0.0, 0.0, 0.0, 0.0, 0.0, ...</td>\n",
              "      <td>[17.0]</td>\n",
              "      <td>[8.0]</td>\n",
              "      <td>[0.0]</td>\n",
              "      <td>[0.0]</td>\n",
              "      <td>[12.0]</td>\n",
              "      <td>[0.0]</td>\n",
              "      <td>[0.4666666666666667]</td>\n",
              "      <td>[0.0]</td>\n",
              "      <td>[0.0]</td>\n",
              "      <td>[0.11224489795918366]</td>\n",
              "      <td>0.0</td>\n",
              "      <td>(0.0, 0.4666666666666667, 0.0, 0.0, 0.11224489...</td>\n",
              "      <td>[1.8909834619733443, -1.8909834619733443]</td>\n",
              "      <td>[0.9777294305344049, 0.022270569465595136]</td>\n",
              "      <td>0.0</td>\n",
              "    </tr>\n",
              "    <tr>\n",
              "      <th>2</th>\n",
              "      <td>17.0</td>\n",
              "      <td>Private</td>\n",
              "      <td>10th</td>\n",
              "      <td>6.0</td>\n",
              "      <td>Never-married</td>\n",
              "      <td>Handlers-cleaners</td>\n",
              "      <td>Own-child</td>\n",
              "      <td>White</td>\n",
              "      <td>Male</td>\n",
              "      <td>0.0</td>\n",
              "      <td>0.0</td>\n",
              "      <td>20.0</td>\n",
              "      <td>United-States</td>\n",
              "      <td>&lt;=50K</td>\n",
              "      <td>0.0</td>\n",
              "      <td>7.0</td>\n",
              "      <td>1.0</td>\n",
              "      <td>8.0</td>\n",
              "      <td>2.0</td>\n",
              "      <td>0.0</td>\n",
              "      <td>0.0</td>\n",
              "      <td>0.0</td>\n",
              "      <td>(1.0, 0.0, 0.0, 0.0, 0.0, 0.0, 0.0)</td>\n",
              "      <td>(0.0, 0.0, 0.0, 0.0, 0.0, 0.0, 0.0, 1.0, 0.0, ...</td>\n",
              "      <td>(0.0, 1.0, 0.0, 0.0, 0.0, 0.0, 0.0)</td>\n",
              "      <td>(0.0, 0.0, 0.0, 0.0, 0.0, 0.0, 0.0, 0.0, 1.0, ...</td>\n",
              "      <td>(0.0, 0.0, 1.0, 0.0, 0.0, 0.0)</td>\n",
              "      <td>(1.0, 0.0, 0.0, 0.0, 0.0)</td>\n",
              "      <td>(1.0, 0.0)</td>\n",
              "      <td>(1.0, 0.0, 0.0, 0.0, 0.0, 0.0, 0.0, 0.0, 0.0, ...</td>\n",
              "      <td>[17.0]</td>\n",
              "      <td>[6.0]</td>\n",
              "      <td>[0.0]</td>\n",
              "      <td>[0.0]</td>\n",
              "      <td>[20.0]</td>\n",
              "      <td>[0.0]</td>\n",
              "      <td>[0.3333333333333333]</td>\n",
              "      <td>[0.0]</td>\n",
              "      <td>[0.0]</td>\n",
              "      <td>[0.19387755102040816]</td>\n",
              "      <td>0.0</td>\n",
              "      <td>(0.0, 0.3333333333333333, 0.0, 0.0, 0.19387755...</td>\n",
              "      <td>[1.8890512549304643, -1.8890512549304643]</td>\n",
              "      <td>[0.9776451289695091, 0.02235487103049094]</td>\n",
              "      <td>0.0</td>\n",
              "    </tr>\n",
              "    <tr>\n",
              "      <th>3</th>\n",
              "      <td>17.0</td>\n",
              "      <td>Private</td>\n",
              "      <td>10th</td>\n",
              "      <td>6.0</td>\n",
              "      <td>Never-married</td>\n",
              "      <td>Handlers-cleaners</td>\n",
              "      <td>Own-child</td>\n",
              "      <td>White</td>\n",
              "      <td>Male</td>\n",
              "      <td>0.0</td>\n",
              "      <td>0.0</td>\n",
              "      <td>20.0</td>\n",
              "      <td>United-States</td>\n",
              "      <td>&lt;=50K</td>\n",
              "      <td>0.0</td>\n",
              "      <td>7.0</td>\n",
              "      <td>1.0</td>\n",
              "      <td>8.0</td>\n",
              "      <td>2.0</td>\n",
              "      <td>0.0</td>\n",
              "      <td>0.0</td>\n",
              "      <td>0.0</td>\n",
              "      <td>(1.0, 0.0, 0.0, 0.0, 0.0, 0.0, 0.0)</td>\n",
              "      <td>(0.0, 0.0, 0.0, 0.0, 0.0, 0.0, 0.0, 1.0, 0.0, ...</td>\n",
              "      <td>(0.0, 1.0, 0.0, 0.0, 0.0, 0.0, 0.0)</td>\n",
              "      <td>(0.0, 0.0, 0.0, 0.0, 0.0, 0.0, 0.0, 0.0, 1.0, ...</td>\n",
              "      <td>(0.0, 0.0, 1.0, 0.0, 0.0, 0.0)</td>\n",
              "      <td>(1.0, 0.0, 0.0, 0.0, 0.0)</td>\n",
              "      <td>(1.0, 0.0)</td>\n",
              "      <td>(1.0, 0.0, 0.0, 0.0, 0.0, 0.0, 0.0, 0.0, 0.0, ...</td>\n",
              "      <td>[17.0]</td>\n",
              "      <td>[6.0]</td>\n",
              "      <td>[0.0]</td>\n",
              "      <td>[0.0]</td>\n",
              "      <td>[20.0]</td>\n",
              "      <td>[0.0]</td>\n",
              "      <td>[0.3333333333333333]</td>\n",
              "      <td>[0.0]</td>\n",
              "      <td>[0.0]</td>\n",
              "      <td>[0.19387755102040816]</td>\n",
              "      <td>0.0</td>\n",
              "      <td>(0.0, 0.3333333333333333, 0.0, 0.0, 0.19387755...</td>\n",
              "      <td>[1.8890512549304643, -1.8890512549304643]</td>\n",
              "      <td>[0.9776451289695091, 0.02235487103049094]</td>\n",
              "      <td>0.0</td>\n",
              "    </tr>\n",
              "    <tr>\n",
              "      <th>4</th>\n",
              "      <td>17.0</td>\n",
              "      <td>Private</td>\n",
              "      <td>10th</td>\n",
              "      <td>6.0</td>\n",
              "      <td>Never-married</td>\n",
              "      <td>Handlers-cleaners</td>\n",
              "      <td>Own-child</td>\n",
              "      <td>White</td>\n",
              "      <td>Male</td>\n",
              "      <td>0.0</td>\n",
              "      <td>0.0</td>\n",
              "      <td>24.0</td>\n",
              "      <td>United-States</td>\n",
              "      <td>&lt;=50K</td>\n",
              "      <td>0.0</td>\n",
              "      <td>7.0</td>\n",
              "      <td>1.0</td>\n",
              "      <td>8.0</td>\n",
              "      <td>2.0</td>\n",
              "      <td>0.0</td>\n",
              "      <td>0.0</td>\n",
              "      <td>0.0</td>\n",
              "      <td>(1.0, 0.0, 0.0, 0.0, 0.0, 0.0, 0.0)</td>\n",
              "      <td>(0.0, 0.0, 0.0, 0.0, 0.0, 0.0, 0.0, 1.0, 0.0, ...</td>\n",
              "      <td>(0.0, 1.0, 0.0, 0.0, 0.0, 0.0, 0.0)</td>\n",
              "      <td>(0.0, 0.0, 0.0, 0.0, 0.0, 0.0, 0.0, 0.0, 1.0, ...</td>\n",
              "      <td>(0.0, 0.0, 1.0, 0.0, 0.0, 0.0)</td>\n",
              "      <td>(1.0, 0.0, 0.0, 0.0, 0.0)</td>\n",
              "      <td>(1.0, 0.0)</td>\n",
              "      <td>(1.0, 0.0, 0.0, 0.0, 0.0, 0.0, 0.0, 0.0, 0.0, ...</td>\n",
              "      <td>[17.0]</td>\n",
              "      <td>[6.0]</td>\n",
              "      <td>[0.0]</td>\n",
              "      <td>[0.0]</td>\n",
              "      <td>[24.0]</td>\n",
              "      <td>[0.0]</td>\n",
              "      <td>[0.3333333333333333]</td>\n",
              "      <td>[0.0]</td>\n",
              "      <td>[0.0]</td>\n",
              "      <td>[0.2346938775510204]</td>\n",
              "      <td>0.0</td>\n",
              "      <td>(0.0, 0.3333333333333333, 0.0, 0.0, 0.23469387...</td>\n",
              "      <td>[1.8890512549304643, -1.8890512549304643]</td>\n",
              "      <td>[0.9776451289695091, 0.02235487103049094]</td>\n",
              "      <td>0.0</td>\n",
              "    </tr>\n",
              "  </tbody>\n",
              "</table>\n",
              "</div>"
            ],
            "text/plain": [
              "    Age  WorkClass  ...                                 probability  prediction\n",
              "0  17.0  Local-gov  ...   [0.9758426205381941, 0.02415737946180585]         0.0\n",
              "1  17.0  Local-gov  ...  [0.9777294305344049, 0.022270569465595136]         0.0\n",
              "2  17.0    Private  ...   [0.9776451289695091, 0.02235487103049094]         0.0\n",
              "3  17.0    Private  ...   [0.9776451289695091, 0.02235487103049094]         0.0\n",
              "4  17.0    Private  ...   [0.9776451289695091, 0.02235487103049094]         0.0\n",
              "\n",
              "[5 rows x 45 columns]"
            ]
          },
          "metadata": {},
          "execution_count": 94
        }
      ]
    },
    {
      "cell_type": "code",
      "metadata": {
        "colab": {
          "base_uri": "https://localhost:8080/"
        },
        "id": "AmTVgR4SOGoa",
        "outputId": "a282354d-e49a-45dc-cff9-96ee85ed57ce"
      },
      "source": [
        "evaluator = MulticlassClassificationEvaluator(\n",
        "    labelCol='Income_index', \n",
        "    predictionCol='prediction', \n",
        "    metricName='accuracy')\n",
        "\n",
        "accuracy = evaluator.evaluate(predictions)\n",
        "print(f\"Model accuracy: {accuracy*100:.3f}%\")"
      ],
      "execution_count": null,
      "outputs": [
        {
          "output_type": "stream",
          "name": "stdout",
          "text": [
            "Model accuracy: 85.420%\n"
          ]
        }
      ]
    },
    {
      "cell_type": "markdown",
      "metadata": {
        "id": "DkeMfxmZ4CmN"
      },
      "source": [
        "Check for incorrect predictions..."
      ]
    },
    {
      "cell_type": "code",
      "metadata": {
        "id": "RfjEvObekvPm"
      },
      "source": [
        "predictionsDF.loc[\n",
        "    predictionsDF['Income_index'] != predictionsDF['prediction']\n",
        "]"
      ],
      "execution_count": null,
      "outputs": []
    },
    {
      "cell_type": "markdown",
      "metadata": {
        "id": "d_6Ot7zNnDYt"
      },
      "source": [
        "## Use MLeap to serialize pipeline"
      ]
    },
    {
      "cell_type": "markdown",
      "metadata": {
        "id": "poMICDRG4Fhb"
      },
      "source": [
        "Colab does not work well with MLeap (`v =<1.18.0`) as MLeap will require Docker to be installed on local machine--which Colab does not support currently or plan on supporting anytime soon.\n"
      ]
    },
    {
      "cell_type": "code",
      "metadata": {
        "id": "FoLtGraLmCH2"
      },
      "source": [
        "# Replace gbtModel with appropriate model name\n",
        "\n",
        "# SimpleSparkSerializer().serializeToBundle(\n",
        "#     gbtModel, \"jar:file:/tmp/model.zip\", predictions\n",
        "# )"
      ],
      "execution_count": null,
      "outputs": []
    },
    {
      "cell_type": "markdown",
      "metadata": {
        "id": "VoHxrTFeeFxa"
      },
      "source": [
        "#### Final Pipeline\n",
        "* The pipeline we built previously only transformed the feature columns\n",
        "* We re-create the pipeline to include the VectorAssembler and the estimator\n",
        "\n",
        "The pipeline to be used to build the model contains all the transformers and ends with the estimator"
      ]
    },
    {
      "cell_type": "markdown",
      "metadata": {
        "id": "gsym8Sqcr8p-"
      },
      "source": [
        "# Credits"
      ]
    },
    {
      "cell_type": "markdown",
      "metadata": {
        "id": "9xkSNm8hsAho"
      },
      "source": [
        "**Dataset Credits:**\n",
        "\n",
        "The dataset is credited to Ronny Kohavi and Barry Becker (from [this paper](https://dl.acm.org/doi/10.5555/3001460.3001502)) and was drawn from the 1994 [United States Census Bureau](https://www.census.gov/) data and involves using personal details such as education level to predict whether an individual will earn more or less than $50,000 per year."
      ]
    },
    {
      "cell_type": "markdown",
      "metadata": {
        "id": "uc37xNJ-0ALS"
      },
      "source": [
        "**Resources**\n",
        "\n",
        "Concepts from this notebook are heavily inspired by Janani Ravi's course on [\"Building Machine Learning Models in Spark 2\"](https://app.pluralsight.com/library/courses/spark-2-building-machine-learning-models/table-of-contents).\n"
      ]
    },
    {
      "cell_type": "markdown",
      "metadata": {
        "id": "JIcj9G7N0qvI"
      },
      "source": [
        "**Other References**\n",
        "\n",
        "- [Imbalanced Classification with the Adult Income Dataset](https://machinelearningmastery.com/imbalanced-classification-with-the-adult-income-dataset/) \n",
        "\n",
        "- [Apache Spark ML documentation](https://spark.apache.org/docs/2.0.0-preview/ml-guide.html)."
      ]
    }
  ]
}